{
 "cells": [
  {
   "cell_type": "code",
   "execution_count": 162,
   "metadata": {
    "collapsed": true,
    "pycharm": {
     "name": "#%%\n"
    }
   },
   "outputs": [],
   "source": [
    "import numpy as np\n",
    "import matplotlib.pyplot as plt\n",
    "import  matplotlib.cm as cm\n",
    "import pandas as pd\n",
    "from sklearn.cluster import KMeans\n",
    "from sklearn.model_selection import train_test_split\n",
    "from sklearn.cluster import AgglomerativeClustering\n",
    "from sklearn import metrics"
   ]
  },
  {
   "cell_type": "code",
   "execution_count": 163,
   "outputs": [
    {
     "data": {
      "text/plain": "         0         1         2         3         4         5         6   \\\n0  7.161286  7.835325  2.911583  0.984049 -1.499546 -2.094097  0.576000   \n1  0.225763 -0.094169 -0.603646  0.497745  0.874036  0.290280 -0.077659   \n2 -0.692525 -0.517801 -0.788035  1.214351 -0.907214  0.880213  0.406899   \n3 -0.735562 -0.684055  2.058215  0.716328 -0.011393  0.805396  1.497982   \n4  0.570272  0.273157 -0.279214  0.083456  1.049331 -0.869295 -0.265858   \n\n         7         8         9   ...        60        61        62        63  \\\n0 -1.205671  1.849122 -0.425598  ... -1.504263  0.351267 -1.018726 -0.174878   \n1 -0.887385  0.432062 -0.093963  ... -0.495712 -0.465077 -0.157861 -0.157189   \n2 -0.694895 -0.901869 -1.701574  ... -0.637167  0.147260  0.217914  2.718442   \n3  0.114752  0.692847  0.052377  ... -0.178325 -0.065059 -0.724247 -1.020687   \n4 -0.401676 -0.872639  1.147483  ... -0.919463 -0.667912 -0.820172 -0.190488   \n\n         64        65        66        67     68     69  \n0 -1.089543 -0.668840 -0.914772 -0.836250 -15.75 -47.95  \n1  0.380951  1.088478 -0.123595  1.391141  14.91 -23.51  \n2  0.972919  2.081069  1.375763  1.063847  12.65  -8.00  \n3 -0.751380 -0.385005 -0.012326 -0.392197   9.03  38.74  \n4  0.306974  0.119658  0.271838  1.289783  34.03  -6.85  \n\n[5 rows x 70 columns]",
      "text/html": "<div>\n<style scoped>\n    .dataframe tbody tr th:only-of-type {\n        vertical-align: middle;\n    }\n\n    .dataframe tbody tr th {\n        vertical-align: top;\n    }\n\n    .dataframe thead th {\n        text-align: right;\n    }\n</style>\n<table border=\"1\" class=\"dataframe\">\n  <thead>\n    <tr style=\"text-align: right;\">\n      <th></th>\n      <th>0</th>\n      <th>1</th>\n      <th>2</th>\n      <th>3</th>\n      <th>4</th>\n      <th>5</th>\n      <th>6</th>\n      <th>7</th>\n      <th>8</th>\n      <th>9</th>\n      <th>...</th>\n      <th>60</th>\n      <th>61</th>\n      <th>62</th>\n      <th>63</th>\n      <th>64</th>\n      <th>65</th>\n      <th>66</th>\n      <th>67</th>\n      <th>68</th>\n      <th>69</th>\n    </tr>\n  </thead>\n  <tbody>\n    <tr>\n      <th>0</th>\n      <td>7.161286</td>\n      <td>7.835325</td>\n      <td>2.911583</td>\n      <td>0.984049</td>\n      <td>-1.499546</td>\n      <td>-2.094097</td>\n      <td>0.576000</td>\n      <td>-1.205671</td>\n      <td>1.849122</td>\n      <td>-0.425598</td>\n      <td>...</td>\n      <td>-1.504263</td>\n      <td>0.351267</td>\n      <td>-1.018726</td>\n      <td>-0.174878</td>\n      <td>-1.089543</td>\n      <td>-0.668840</td>\n      <td>-0.914772</td>\n      <td>-0.836250</td>\n      <td>-15.75</td>\n      <td>-47.95</td>\n    </tr>\n    <tr>\n      <th>1</th>\n      <td>0.225763</td>\n      <td>-0.094169</td>\n      <td>-0.603646</td>\n      <td>0.497745</td>\n      <td>0.874036</td>\n      <td>0.290280</td>\n      <td>-0.077659</td>\n      <td>-0.887385</td>\n      <td>0.432062</td>\n      <td>-0.093963</td>\n      <td>...</td>\n      <td>-0.495712</td>\n      <td>-0.465077</td>\n      <td>-0.157861</td>\n      <td>-0.157189</td>\n      <td>0.380951</td>\n      <td>1.088478</td>\n      <td>-0.123595</td>\n      <td>1.391141</td>\n      <td>14.91</td>\n      <td>-23.51</td>\n    </tr>\n    <tr>\n      <th>2</th>\n      <td>-0.692525</td>\n      <td>-0.517801</td>\n      <td>-0.788035</td>\n      <td>1.214351</td>\n      <td>-0.907214</td>\n      <td>0.880213</td>\n      <td>0.406899</td>\n      <td>-0.694895</td>\n      <td>-0.901869</td>\n      <td>-1.701574</td>\n      <td>...</td>\n      <td>-0.637167</td>\n      <td>0.147260</td>\n      <td>0.217914</td>\n      <td>2.718442</td>\n      <td>0.972919</td>\n      <td>2.081069</td>\n      <td>1.375763</td>\n      <td>1.063847</td>\n      <td>12.65</td>\n      <td>-8.00</td>\n    </tr>\n    <tr>\n      <th>3</th>\n      <td>-0.735562</td>\n      <td>-0.684055</td>\n      <td>2.058215</td>\n      <td>0.716328</td>\n      <td>-0.011393</td>\n      <td>0.805396</td>\n      <td>1.497982</td>\n      <td>0.114752</td>\n      <td>0.692847</td>\n      <td>0.052377</td>\n      <td>...</td>\n      <td>-0.178325</td>\n      <td>-0.065059</td>\n      <td>-0.724247</td>\n      <td>-1.020687</td>\n      <td>-0.751380</td>\n      <td>-0.385005</td>\n      <td>-0.012326</td>\n      <td>-0.392197</td>\n      <td>9.03</td>\n      <td>38.74</td>\n    </tr>\n    <tr>\n      <th>4</th>\n      <td>0.570272</td>\n      <td>0.273157</td>\n      <td>-0.279214</td>\n      <td>0.083456</td>\n      <td>1.049331</td>\n      <td>-0.869295</td>\n      <td>-0.265858</td>\n      <td>-0.401676</td>\n      <td>-0.872639</td>\n      <td>1.147483</td>\n      <td>...</td>\n      <td>-0.919463</td>\n      <td>-0.667912</td>\n      <td>-0.820172</td>\n      <td>-0.190488</td>\n      <td>0.306974</td>\n      <td>0.119658</td>\n      <td>0.271838</td>\n      <td>1.289783</td>\n      <td>34.03</td>\n      <td>-6.85</td>\n    </tr>\n  </tbody>\n</table>\n<p>5 rows × 70 columns</p>\n</div>"
     },
     "execution_count": 163,
     "metadata": {},
     "output_type": "execute_result"
    }
   ],
   "source": [
    "df = pd.read_csv('default_features_1059_tracks.txt', header=None )\n",
    "df.head()"
   ],
   "metadata": {
    "collapsed": false,
    "pycharm": {
     "name": "#%%\n"
    }
   }
  },
  {
   "cell_type": "code",
   "execution_count": 164,
   "outputs": [
    {
     "name": "stdout",
     "output_type": "stream",
     "text": [
      "the total number of rows and columns in the data set : \n",
      " (1059, 70)\n",
      "\n",
      "\n",
      "More information about the dataset : \n",
      "\n",
      "<class 'pandas.core.frame.DataFrame'>\n",
      "RangeIndex: 1059 entries, 0 to 1058\n",
      "Data columns (total 70 columns):\n",
      " #   Column  Non-Null Count  Dtype  \n",
      "---  ------  --------------  -----  \n",
      " 0   0       1059 non-null   float64\n",
      " 1   1       1059 non-null   float64\n",
      " 2   2       1059 non-null   float64\n",
      " 3   3       1059 non-null   float64\n",
      " 4   4       1059 non-null   float64\n",
      " 5   5       1059 non-null   float64\n",
      " 6   6       1059 non-null   float64\n",
      " 7   7       1059 non-null   float64\n",
      " 8   8       1059 non-null   float64\n",
      " 9   9       1059 non-null   float64\n",
      " 10  10      1059 non-null   float64\n",
      " 11  11      1059 non-null   float64\n",
      " 12  12      1059 non-null   float64\n",
      " 13  13      1059 non-null   float64\n",
      " 14  14      1059 non-null   float64\n",
      " 15  15      1059 non-null   float64\n",
      " 16  16      1059 non-null   float64\n",
      " 17  17      1059 non-null   float64\n",
      " 18  18      1059 non-null   float64\n",
      " 19  19      1059 non-null   float64\n",
      " 20  20      1059 non-null   float64\n",
      " 21  21      1059 non-null   float64\n",
      " 22  22      1059 non-null   float64\n",
      " 23  23      1059 non-null   float64\n",
      " 24  24      1059 non-null   float64\n",
      " 25  25      1059 non-null   float64\n",
      " 26  26      1059 non-null   float64\n",
      " 27  27      1059 non-null   float64\n",
      " 28  28      1059 non-null   float64\n",
      " 29  29      1059 non-null   float64\n",
      " 30  30      1059 non-null   float64\n",
      " 31  31      1059 non-null   float64\n",
      " 32  32      1059 non-null   float64\n",
      " 33  33      1059 non-null   float64\n",
      " 34  34      1059 non-null   float64\n",
      " 35  35      1059 non-null   float64\n",
      " 36  36      1059 non-null   float64\n",
      " 37  37      1059 non-null   float64\n",
      " 38  38      1059 non-null   float64\n",
      " 39  39      1059 non-null   float64\n",
      " 40  40      1059 non-null   float64\n",
      " 41  41      1059 non-null   float64\n",
      " 42  42      1059 non-null   float64\n",
      " 43  43      1059 non-null   float64\n",
      " 44  44      1059 non-null   float64\n",
      " 45  45      1059 non-null   float64\n",
      " 46  46      1059 non-null   float64\n",
      " 47  47      1059 non-null   float64\n",
      " 48  48      1059 non-null   float64\n",
      " 49  49      1059 non-null   float64\n",
      " 50  50      1059 non-null   float64\n",
      " 51  51      1059 non-null   float64\n",
      " 52  52      1059 non-null   float64\n",
      " 53  53      1059 non-null   float64\n",
      " 54  54      1059 non-null   float64\n",
      " 55  55      1059 non-null   float64\n",
      " 56  56      1059 non-null   float64\n",
      " 57  57      1059 non-null   float64\n",
      " 58  58      1059 non-null   float64\n",
      " 59  59      1059 non-null   float64\n",
      " 60  60      1059 non-null   float64\n",
      " 61  61      1059 non-null   float64\n",
      " 62  62      1059 non-null   float64\n",
      " 63  63      1059 non-null   float64\n",
      " 64  64      1059 non-null   float64\n",
      " 65  65      1059 non-null   float64\n",
      " 66  66      1059 non-null   float64\n",
      " 67  67      1059 non-null   float64\n",
      " 68  68      1059 non-null   float64\n",
      " 69  69      1059 non-null   float64\n",
      "dtypes: float64(70)\n",
      "memory usage: 579.3 KB\n"
     ]
    }
   ],
   "source": [
    "print(\"the total number of rows and columns in the data set : \\n\",df.shape)\n",
    "print(\"\\n\\nMore information about the dataset : \\n\")\n",
    "df.info()\n"
   ],
   "metadata": {
    "collapsed": false,
    "pycharm": {
     "name": "#%%\n"
    }
   }
  },
  {
   "cell_type": "code",
   "execution_count": 165,
   "outputs": [
    {
     "data": {
      "text/plain": "False"
     },
     "execution_count": 165,
     "metadata": {},
     "output_type": "execute_result"
    }
   ],
   "source": [
    "\"\"\"\n",
    "* Data has only float values.\n",
    "* No variable column has null/missing values.\n",
    "\"\"\"\n",
    "# checking if the data contains any NAN (null) values\n",
    "df.isnull().values.any()\n",
    "# we get false which means there are no null values"
   ],
   "metadata": {
    "collapsed": false,
    "pycharm": {
     "name": "#%%\n"
    }
   }
  },
  {
   "cell_type": "code",
   "execution_count": 166,
   "outputs": [],
   "source": [
    "data = df.iloc[:,:68] # each row is a song\n",
    "y = df.iloc[:,68:] # # latitude & longitude"
   ],
   "metadata": {
    "collapsed": false,
    "pycharm": {
     "name": "#%%\n"
    }
   }
  },
  {
   "cell_type": "code",
   "execution_count": 167,
   "outputs": [
    {
     "data": {
      "text/plain": "<Figure size 432x288 with 1 Axes>",
      "image/png": "[encoded data removed]"
     },
     "metadata": {
      "needs_background": "light"
     },
     "output_type": "display_data"
    }
   ],
   "source": [
    "fig = plt.figure()\n",
    "plt.plot(y.iloc[:, 1], y.iloc[:, 0],\".r\")\n",
    "plt.title(\"Draw the initial relationship between longitude and latitude\")\n",
    "plt.xlabel(\"Longitude\")\n",
    "plt.ylabel(\"Latitude\")\n",
    "fig.savefig(\"first_fig.png\",facecolor=\"white\")"
   ],
   "metadata": {
    "collapsed": false,
    "pycharm": {
     "name": "#%%\n"
    }
   }
  },
  {
   "cell_type": "code",
   "execution_count": 168,
   "outputs": [
    {
     "data": {
      "text/plain": "array([[ 4.1900e+01,  1.2480e+01],\n       [ 1.3750e+01,  1.0048e+02],\n       [-1.5750e+01, -4.7950e+01],\n       [ 3.3660e+01,  7.3160e+01],\n       [ 1.4660e+01, -1.7410e+01],\n       [-6.1700e+00,  3.5740e+01],\n       [ 3.9910e+01,  3.2830e+01],\n       [ 1.7980e+01, -7.6800e+01],\n       [-3.5300e+01,  1.4912e+02],\n       [ 3.9910e+01,  1.1638e+02],\n       [-6.1700e+00,  1.0682e+02],\n       [ 5.2500e+01, -1.2000e-01],\n       [ 3.5700e+01,  1.3971e+02],\n       [ 3.6700e+01,  3.2100e+00],\n       [ 5.4680e+01,  2.5310e+01],\n       [ 4.1710e+01,  4.4780e+01],\n       [ 9.0300e+00,  3.8740e+01],\n       [ 2.3760e+01,  1.2100e+02],\n       [ 1.2650e+01, -8.0000e+00],\n       [ 4.1330e+01,  1.9800e+01],\n       [ 4.1260e+01,  6.9210e+01],\n       [ 3.0030e+01,  3.1210e+01],\n       [ 3.4030e+01, -6.8500e+00],\n       [ 3.5680e+01,  5.1410e+01],\n       [ 2.8610e+01,  7.7200e+01],\n       [ 1.7250e+01, -8.8760e+01],\n       [ 1.9750e+01,  9.6100e+01],\n       [ 3.8000e+01,  2.3710e+01],\n       [ 1.4910e+01, -2.3510e+01],\n       [ 4.4410e+01,  2.6100e+01],\n       [ 4.2860e+01,  7.4600e+01],\n       [-1.2600e+00,  3.6800e+01],\n       [ 1.1550e+01,  1.0491e+02]])"
     },
     "execution_count": 168,
     "metadata": {},
     "output_type": "execute_result"
    }
   ],
   "source": [
    " # The dataset was built from a personal collection of 1059 tracks covering 33 countries/area\n",
    "NumClusters = 33\n",
    "kmeans = KMeans(n_clusters=NumClusters , max_iter=600 )\n",
    "kmeans = kmeans.fit(y)\n",
    "labels = kmeans.predict(y)\n",
    "centroids = kmeans.cluster_centers_\n",
    "centroids"
   ],
   "metadata": {
    "collapsed": false,
    "pycharm": {
     "name": "#%%\n"
    }
   }
  },
  {
   "cell_type": "code",
   "execution_count": 169,
   "outputs": [
    {
     "data": {
      "text/plain": "<Figure size 432x288 with 0 Axes>"
     },
     "execution_count": 169,
     "metadata": {},
     "output_type": "execute_result"
    },
    {
     "data": {
      "text/plain": "<Figure size 432x288 with 1 Axes>",
      "image/png": "[encoded data removed]"
     },
     "metadata": {
      "needs_background": "light"
     },
     "output_type": "display_data"
    },
    {
     "data": {
      "text/plain": "<Figure size 432x288 with 0 Axes>"
     },
     "metadata": {},
     "output_type": "display_data"
    }
   ],
   "source": [
    "cmap = cm.get_cmap(\"Spectral\")\n",
    "colors = [cmap(float(l) /NumClusters) for l in labels]\n",
    "plt.scatter(y.iloc[:, 1], y.iloc[:, 0], c = colors, s=25)\n",
    "plt.xlabel(\"Longitude\")\n",
    "plt.ylabel(\"Latitude\")\n",
    "plt.figure()"
   ],
   "metadata": {
    "collapsed": false,
    "pycharm": {
     "name": "#%%\n"
    }
   }
  },
  {
   "cell_type": "code",
   "execution_count": 170,
   "outputs": [
    {
     "name": "stdout",
     "output_type": "stream",
     "text": [
      "Training set shape: (741, 68)\n",
      "Testing set shape: (318, 68)\n"
     ]
    }
   ],
   "source": [
    "y = labels\n",
    "X_train, X_test, y_train, y_test = train_test_split(data, y,test_size = 0.30)\n",
    "print(f\"Training set shape: {X_train.shape}\")\n",
    "print(f\"Testing set shape: {X_test.shape}\")\n"
   ],
   "metadata": {
    "collapsed": false,
    "pycharm": {
     "name": "#%%\n"
    }
   }
  },
  {
   "cell_type": "code",
   "execution_count": 171,
   "outputs": [],
   "source": [
    "from sklearn.preprocessing import StandardScaler\n",
    "\n",
    "scaler_data = pd.DataFrame(StandardScaler().fit_transform(data),\n",
    "columns=df.columns[0:68])\n",
    "\n",
    "scaled_Xtrain = StandardScaler().fit_transform(X_train)\n",
    "scaled_Xtest =  StandardScaler().fit_transform(X_test)"
   ],
   "metadata": {
    "collapsed": false,
    "pycharm": {
     "name": "#%%\n"
    }
   }
  },
  {
   "cell_type": "code",
   "execution_count": 172,
   "outputs": [
    {
     "data": {
      "text/plain": "<Figure size 432x288 with 1 Axes>",
      "image/png": "[encoded data removed]"
     },
     "metadata": {
      "needs_background": "light"
     },
     "output_type": "display_data"
    }
   ],
   "source": [
    "from sklearn.decomposition import PCA\n",
    "pca = PCA(n_components=68) #\n",
    "principalComponents = pca.fit_transform(scaler_data)\n",
    "a= [1- i for i in pca.explained_variance_ratio_]\n",
    "#????\n",
    "\n",
    "X_scaler = StandardScaler().fit(data)\n",
    "PCA_var = PCA(n_components = X_scaler.transform(data).shape[1])\n",
    "PCA_var.fit(X_scaler.transform(data))\n",
    "PCA_var_exp = [1 - x/sum(PCA_var.explained_variance_) for x in PCA_var.explained_variance_]\n",
    "\n",
    "plt.figure()\n",
    "plt.title(\"PCA variance explained over number of PCs\")\n",
    "plt.xlabel(\"Number of PCs\")\n",
    "plt.ylabel(\"Ratio of variance explained\")\n",
    "plt.plot(range(0, len(a), 1), a, c = 'r')\n",
    "plt.show()\n"
   ],
   "metadata": {
    "collapsed": false,
    "pycharm": {
     "name": "#%%\n"
    }
   }
  },
  {
   "cell_type": "markdown",
   "source": [],
   "metadata": {
    "collapsed": false,
    "pycharm": {
     "name": "#%% md\n"
    }
   }
  },
  {
   "cell_type": "code",
   "execution_count": 173,
   "outputs": [
    {
     "name": "stdout",
     "output_type": "stream",
     "text": [
      "Random Forest accuracy:0.44339622641509435\n"
     ]
    }
   ],
   "source": [
    "from sklearn import metrics\n",
    "from sklearn.ensemble import RandomForestClassifier\n",
    "\n",
    "# RandomForest Classifier\n",
    "rf = RandomForestClassifier(n_estimators=100).fit(X_train, y_train)\n",
    "rf_pred = rf.predict(X_test)\n",
    "print(f\"Random Forest accuracy:{metrics.accuracy_score(y_test,rf_pred)}\")\n",
    "#print(confusion_matrix(y_test, rf_pred))"
   ],
   "metadata": {
    "collapsed": false,
    "pycharm": {
     "name": "#%%\n"
    }
   }
  },
  {
   "cell_type": "code",
   "execution_count": 174,
   "outputs": [
    {
     "data": {
      "text/plain": "array([ True, False,  True,  True,  True, False, False,  True, False,\n       False,  True,  True, False, False, False, False, False,  True,\n        True, False,  True, False,  True, False,  True,  True, False,\n       False, False, False,  True, False, False, False,  True,  True,\n        True, False,  True, False, False, False, False, False, False,\n       False, False, False, False, False, False,  True,  True,  True,\n        True,  True,  True, False, False,  True, False, False, False,\n       False, False, False, False,  True])"
     },
     "execution_count": 174,
     "metadata": {},
     "output_type": "execute_result"
    }
   ],
   "source": [
    "from sklearn.feature_selection import SelectFromModel\n",
    "sel = SelectFromModel(RandomForestClassifier(n_estimators = 10))\n",
    "sel.fit(X_train, y_train)\n",
    "# To see which features are important we can use get_support method on the fitted model.\n",
    "Important_features = sel.get_support()\n",
    "Important_features"
   ],
   "metadata": {
    "collapsed": false,
    "pycharm": {
     "name": "#%%\n"
    }
   }
  },
  {
   "cell_type": "code",
   "execution_count": 175,
   "outputs": [
    {
     "name": "stdout",
     "output_type": "stream",
     "text": [
      "26\n",
      "Int64Index([ 0,  2,  3,  4,  7, 10, 11, 17, 18, 20, 22, 24, 25, 30, 34, 35, 36,\n",
      "            38, 51, 52, 53, 54, 55, 56, 59, 67],\n",
      "           dtype='int64')\n"
     ]
    },
    {
     "data": {
      "text/plain": "            0         2         3         4         7         10        11  \\\n0     7.161286  2.911583  0.984049 -1.499546 -1.205671 -0.105672  1.728885   \n1     0.225763 -0.603646  0.497745  0.874036 -0.887385  0.029105  0.407297   \n2    -0.692525 -0.788035  1.214351 -0.907214 -0.694895 -0.903893 -0.791393   \n3    -0.735562  2.058215  0.716328 -0.011393  0.114752  0.024625  0.429205   \n4     0.570272 -0.279214  0.083456  1.049331 -0.401676 -0.287746  1.824638   \n...        ...       ...       ...       ...       ...       ...       ...   \n1054  0.399577 -0.039326 -0.111546  0.304586 -0.335898 -0.594327 -0.399561   \n1055  1.640386  0.192745 -1.816855 -1.311906  0.094232 -0.766201 -0.681298   \n1056 -0.772360 -0.840420 -0.832105  0.277346  0.229092  0.247850  0.636144   \n1057 -0.996965  3.515274 -0.508185 -1.102654  0.264674 -1.083711 -0.178807   \n1058 -0.150911 -0.568885 -0.614652  0.332477 -1.591471 -2.091674  0.881171   \n\n            17        18        20  ...        36        38        51  \\\n0     5.069512  6.007710  0.896190  ...  0.317270  2.048282  1.319729   \n1     0.867759  0.549205 -0.578459  ... -0.402494 -0.221967  1.627259   \n2    -0.672476 -0.463102  0.069946  ... -0.291778 -0.351297 -0.654047   \n3    -0.055956  0.001966  0.332082  ...  2.535289  0.190260  2.301748   \n4     0.035642 -0.044704 -0.733049  ... -0.324638 -0.186612  0.984157   \n...        ...       ...       ...  ...       ...       ...       ...   \n1054  0.703930  0.533387 -0.331143  ...  0.112375 -0.203477 -0.081286   \n1055 -0.280018 -0.726096 -1.064253  ... -0.410138  1.261700 -0.636212   \n1056 -0.643912 -0.685403 -0.732369  ... -0.340651 -0.993363  0.087498   \n1057 -0.787095 -0.724768  0.208220  ...  4.228199  0.449377 -0.578250   \n1058 -0.578564 -0.658959 -0.726250  ... -1.154825 -0.388169 -0.710954   \n\n            52        53        54        55        56        59        67  \n0     1.094839 -0.937659 -0.895371 -0.734962  0.441859 -0.043610 -0.836250  \n1     1.989545 -0.357803 -0.176835  0.406589 -0.623764 -0.947933  1.391141  \n2     0.264883 -0.421474 -0.405171  0.170239  0.067260 -0.556109  1.063847  \n3     2.547275  1.485531 -0.179182  0.112038  0.983122  0.166616 -0.392197  \n4     0.279686 -0.784654 -0.078594 -0.250279 -1.169305 -0.500785  1.289783  \n...        ...       ...       ...       ...       ...       ...       ...  \n1054 -0.015762  0.244884  0.119565  1.489708 -0.440270  0.425577  1.719302  \n1055 -1.622788 -0.541290  0.260389  2.550315  2.143525  0.723125  4.422651  \n1056  0.059951 -0.616315  0.284195  0.718086 -0.096274 -0.287753 -0.573822  \n1057 -0.501226  0.426008 -0.130229 -1.021024 -0.846366  1.565493 -0.832167  \n1058 -0.557389 -0.818123  0.136330 -0.773602 -1.317640  4.159140  1.462580  \n\n[1059 rows x 26 columns]",
      "text/html": "<div>\n<style scoped>\n    .dataframe tbody tr th:only-of-type {\n        vertical-align: middle;\n    }\n\n    .dataframe tbody tr th {\n        vertical-align: top;\n    }\n\n    .dataframe thead th {\n        text-align: right;\n    }\n</style>\n<table border=\"1\" class=\"dataframe\">\n  <thead>\n    <tr style=\"text-align: right;\">\n      <th></th>\n      <th>0</th>\n      <th>2</th>\n      <th>3</th>\n      <th>4</th>\n      <th>7</th>\n      <th>10</th>\n      <th>11</th>\n      <th>17</th>\n      <th>18</th>\n      <th>20</th>\n      <th>...</th>\n      <th>36</th>\n      <th>38</th>\n      <th>51</th>\n      <th>52</th>\n      <th>53</th>\n      <th>54</th>\n      <th>55</th>\n      <th>56</th>\n      <th>59</th>\n      <th>67</th>\n    </tr>\n  </thead>\n  <tbody>\n    <tr>\n      <th>0</th>\n      <td>7.161286</td>\n      <td>2.911583</td>\n      <td>0.984049</td>\n      <td>-1.499546</td>\n      <td>-1.205671</td>\n      <td>-0.105672</td>\n      <td>1.728885</td>\n      <td>5.069512</td>\n      <td>6.007710</td>\n      <td>0.896190</td>\n      <td>...</td>\n      <td>0.317270</td>\n      <td>2.048282</td>\n      <td>1.319729</td>\n      <td>1.094839</td>\n      <td>-0.937659</td>\n      <td>-0.895371</td>\n      <td>-0.734962</td>\n      <td>0.441859</td>\n      <td>-0.043610</td>\n      <td>-0.836250</td>\n    </tr>\n    <tr>\n      <th>1</th>\n      <td>0.225763</td>\n      <td>-0.603646</td>\n      <td>0.497745</td>\n      <td>0.874036</td>\n      <td>-0.887385</td>\n      <td>0.029105</td>\n      <td>0.407297</td>\n      <td>0.867759</td>\n      <td>0.549205</td>\n      <td>-0.578459</td>\n      <td>...</td>\n      <td>-0.402494</td>\n      <td>-0.221967</td>\n      <td>1.627259</td>\n      <td>1.989545</td>\n      <td>-0.357803</td>\n      <td>-0.176835</td>\n      <td>0.406589</td>\n      <td>-0.623764</td>\n      <td>-0.947933</td>\n      <td>1.391141</td>\n    </tr>\n    <tr>\n      <th>2</th>\n      <td>-0.692525</td>\n      <td>-0.788035</td>\n      <td>1.214351</td>\n      <td>-0.907214</td>\n      <td>-0.694895</td>\n      <td>-0.903893</td>\n      <td>-0.791393</td>\n      <td>-0.672476</td>\n      <td>-0.463102</td>\n      <td>0.069946</td>\n      <td>...</td>\n      <td>-0.291778</td>\n      <td>-0.351297</td>\n      <td>-0.654047</td>\n      <td>0.264883</td>\n      <td>-0.421474</td>\n      <td>-0.405171</td>\n      <td>0.170239</td>\n      <td>0.067260</td>\n      <td>-0.556109</td>\n      <td>1.063847</td>\n    </tr>\n    <tr>\n      <th>3</th>\n      <td>-0.735562</td>\n      <td>2.058215</td>\n      <td>0.716328</td>\n      <td>-0.011393</td>\n      <td>0.114752</td>\n      <td>0.024625</td>\n      <td>0.429205</td>\n      <td>-0.055956</td>\n      <td>0.001966</td>\n      <td>0.332082</td>\n      <td>...</td>\n      <td>2.535289</td>\n      <td>0.190260</td>\n      <td>2.301748</td>\n      <td>2.547275</td>\n      <td>1.485531</td>\n      <td>-0.179182</td>\n      <td>0.112038</td>\n      <td>0.983122</td>\n      <td>0.166616</td>\n      <td>-0.392197</td>\n    </tr>\n    <tr>\n      <th>4</th>\n      <td>0.570272</td>\n      <td>-0.279214</td>\n      <td>0.083456</td>\n      <td>1.049331</td>\n      <td>-0.401676</td>\n      <td>-0.287746</td>\n      <td>1.824638</td>\n      <td>0.035642</td>\n      <td>-0.044704</td>\n      <td>-0.733049</td>\n      <td>...</td>\n      <td>-0.324638</td>\n      <td>-0.186612</td>\n      <td>0.984157</td>\n      <td>0.279686</td>\n      <td>-0.784654</td>\n      <td>-0.078594</td>\n      <td>-0.250279</td>\n      <td>-1.169305</td>\n      <td>-0.500785</td>\n      <td>1.289783</td>\n    </tr>\n    <tr>\n      <th>...</th>\n      <td>...</td>\n      <td>...</td>\n      <td>...</td>\n      <td>...</td>\n      <td>...</td>\n      <td>...</td>\n      <td>...</td>\n      <td>...</td>\n      <td>...</td>\n      <td>...</td>\n      <td>...</td>\n      <td>...</td>\n      <td>...</td>\n      <td>...</td>\n      <td>...</td>\n      <td>...</td>\n      <td>...</td>\n      <td>...</td>\n      <td>...</td>\n      <td>...</td>\n      <td>...</td>\n    </tr>\n    <tr>\n      <th>1054</th>\n      <td>0.399577</td>\n      <td>-0.039326</td>\n      <td>-0.111546</td>\n      <td>0.304586</td>\n      <td>-0.335898</td>\n      <td>-0.594327</td>\n      <td>-0.399561</td>\n      <td>0.703930</td>\n      <td>0.533387</td>\n      <td>-0.331143</td>\n      <td>...</td>\n      <td>0.112375</td>\n      <td>-0.203477</td>\n      <td>-0.081286</td>\n      <td>-0.015762</td>\n      <td>0.244884</td>\n      <td>0.119565</td>\n      <td>1.489708</td>\n      <td>-0.440270</td>\n      <td>0.425577</td>\n      <td>1.719302</td>\n    </tr>\n    <tr>\n      <th>1055</th>\n      <td>1.640386</td>\n      <td>0.192745</td>\n      <td>-1.816855</td>\n      <td>-1.311906</td>\n      <td>0.094232</td>\n      <td>-0.766201</td>\n      <td>-0.681298</td>\n      <td>-0.280018</td>\n      <td>-0.726096</td>\n      <td>-1.064253</td>\n      <td>...</td>\n      <td>-0.410138</td>\n      <td>1.261700</td>\n      <td>-0.636212</td>\n      <td>-1.622788</td>\n      <td>-0.541290</td>\n      <td>0.260389</td>\n      <td>2.550315</td>\n      <td>2.143525</td>\n      <td>0.723125</td>\n      <td>4.422651</td>\n    </tr>\n    <tr>\n      <th>1056</th>\n      <td>-0.772360</td>\n      <td>-0.840420</td>\n      <td>-0.832105</td>\n      <td>0.277346</td>\n      <td>0.229092</td>\n      <td>0.247850</td>\n      <td>0.636144</td>\n      <td>-0.643912</td>\n      <td>-0.685403</td>\n      <td>-0.732369</td>\n      <td>...</td>\n      <td>-0.340651</td>\n      <td>-0.993363</td>\n      <td>0.087498</td>\n      <td>0.059951</td>\n      <td>-0.616315</td>\n      <td>0.284195</td>\n      <td>0.718086</td>\n      <td>-0.096274</td>\n      <td>-0.287753</td>\n      <td>-0.573822</td>\n    </tr>\n    <tr>\n      <th>1057</th>\n      <td>-0.996965</td>\n      <td>3.515274</td>\n      <td>-0.508185</td>\n      <td>-1.102654</td>\n      <td>0.264674</td>\n      <td>-1.083711</td>\n      <td>-0.178807</td>\n      <td>-0.787095</td>\n      <td>-0.724768</td>\n      <td>0.208220</td>\n      <td>...</td>\n      <td>4.228199</td>\n      <td>0.449377</td>\n      <td>-0.578250</td>\n      <td>-0.501226</td>\n      <td>0.426008</td>\n      <td>-0.130229</td>\n      <td>-1.021024</td>\n      <td>-0.846366</td>\n      <td>1.565493</td>\n      <td>-0.832167</td>\n    </tr>\n    <tr>\n      <th>1058</th>\n      <td>-0.150911</td>\n      <td>-0.568885</td>\n      <td>-0.614652</td>\n      <td>0.332477</td>\n      <td>-1.591471</td>\n      <td>-2.091674</td>\n      <td>0.881171</td>\n      <td>-0.578564</td>\n      <td>-0.658959</td>\n      <td>-0.726250</td>\n      <td>...</td>\n      <td>-1.154825</td>\n      <td>-0.388169</td>\n      <td>-0.710954</td>\n      <td>-0.557389</td>\n      <td>-0.818123</td>\n      <td>0.136330</td>\n      <td>-0.773602</td>\n      <td>-1.317640</td>\n      <td>4.159140</td>\n      <td>1.462580</td>\n    </tr>\n  </tbody>\n</table>\n<p>1059 rows × 26 columns</p>\n</div>"
     },
     "execution_count": 175,
     "metadata": {},
     "output_type": "execute_result"
    }
   ],
   "source": [
    "selected_feat= X_train.columns[(sel.get_support())]\n",
    "print(len(selected_feat))\n",
    "print(selected_feat)\n",
    "\n",
    "New_df = df.iloc[:,selected_feat] # data frame with only the selected features\n",
    "New_df"
   ],
   "metadata": {
    "collapsed": false,
    "pycharm": {
     "name": "#%%\n"
    }
   }
  },
  {
   "cell_type": "code",
   "execution_count": 176,
   "outputs": [
    {
     "name": "stdout",
     "output_type": "stream",
     "text": [
      "Training set shape: (741, 26)\n",
      "Testing set shape: (318, 26)\n",
      "Random Forest accuracy:0.4308176100628931\n"
     ]
    }
   ],
   "source": [
    "NX_train, NX_test, Ny_train, Ny_test = train_test_split(New_df, y,test_size = 0.30)\n",
    "print(f\"Training set shape: {NX_train.shape}\")\n",
    "print(f\"Testing set shape: {NX_test.shape}\")\n",
    "\n",
    "Nrf = RandomForestClassifier(n_estimators=100).fit(NX_train, Ny_train)\n",
    "Nrf_pred = Nrf.predict(NX_test)\n",
    "print(f\"Random Forest accuracy:{metrics.accuracy_score(Ny_test,Nrf_pred)}\")"
   ],
   "metadata": {
    "collapsed": false,
    "pycharm": {
     "name": "#%%\n"
    }
   }
  }
 ],
 "metadata": {
  "kernelspec": {
   "display_name": "Python 3",
   "language": "python",
   "name": "python3"
  },
  "language_info": {
   "codemirror_mode": {
    "name": "ipython",
    "version": 2
   },
   "file_extension": ".py",
   "mimetype": "text/x-python",
   "name": "python",
   "nbconvert_exporter": "python",
   "pygments_lexer": "ipython2",
   "version": "2.7.6"
  }
 },
 "nbformat": 4,
 "nbformat_minor": 0
}