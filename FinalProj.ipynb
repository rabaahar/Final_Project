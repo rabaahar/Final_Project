{
 "cells": [
  {
   "cell_type": "code",
   "execution_count": 173,
   "metadata": {
    "collapsed": true,
    "pycharm": {
     "name": "#%%\n"
    }
   },
   "outputs": [],
   "source": [
    "import numpy as np\n",
    "import matplotlib.pyplot as plt\n",
    "import  matplotlib.cm as cm\n",
    "import pandas as pd\n",
    "from sklearn.cluster import KMeans\n",
    "from sklearn.model_selection import train_test_split\n",
    "from sklearn.cluster import AgglomerativeClustering\n",
    "from sklearn import metrics"
   ]
  },
  {
   "cell_type": "code",
   "execution_count": 174,
   "outputs": [
    {
     "data": {
      "text/plain": "            0         1         2         3         4         5         6   \\\n0     7.161286  7.835325  2.911583  0.984049 -1.499546 -2.094097  0.576000   \n1     0.225763 -0.094169 -0.603646  0.497745  0.874036  0.290280 -0.077659   \n2    -0.692525 -0.517801 -0.788035  1.214351 -0.907214  0.880213  0.406899   \n3    -0.735562 -0.684055  2.058215  0.716328 -0.011393  0.805396  1.497982   \n4     0.570272  0.273157 -0.279214  0.083456  1.049331 -0.869295 -0.265858   \n...        ...       ...       ...       ...       ...       ...       ...   \n1054  0.399577  0.310805 -0.039326 -0.111546  0.304586 -0.943453  0.114960   \n1055  1.640386  1.306224  0.192745 -1.816855 -1.311906 -2.128963 -1.875967   \n1056 -0.772360 -0.670596 -0.840420 -0.832105  0.277346  1.152162  0.241470   \n1057 -0.996965 -1.099395  3.515274 -0.508185 -1.102654  0.192081  0.069821   \n1058 -0.150911 -0.094333 -0.568885 -0.614652  0.332477 -0.954948 -1.527722   \n\n            7         8         9   ...        60        61        62  \\\n0    -1.205671  1.849122 -0.425598  ... -1.504263  0.351267 -1.018726   \n1    -0.887385  0.432062 -0.093963  ... -0.495712 -0.465077 -0.157861   \n2    -0.694895 -0.901869 -1.701574  ... -0.637167  0.147260  0.217914   \n3     0.114752  0.692847  0.052377  ... -0.178325 -0.065059 -0.724247   \n4    -0.401676 -0.872639  1.147483  ... -0.919463 -0.667912 -0.820172   \n...        ...       ...       ...  ...       ...       ...       ...   \n1054 -0.335898  0.826753 -0.393786  ... -0.558717  0.998897 -0.106835   \n1055  0.094232 -1.429742  0.873777  ...  0.223143 -0.032425  0.226782   \n1056  0.229092  0.019036 -0.068804  ...  0.449239 -0.965270 -0.590039   \n1057  0.264674 -0.411533  0.501164  ...  1.941398  1.769292  0.738616   \n1058 -1.591471 -3.678713 -5.930209  ...  5.121875  4.103031  3.673086   \n\n            63        64        65        66        67     68      69  \n0    -0.174878 -1.089543 -0.668840 -0.914772 -0.836250 -15.75  -47.95  \n1    -0.157189  0.380951  1.088478 -0.123595  1.391141  14.91  -23.51  \n2     2.718442  0.972919  2.081069  1.375763  1.063847  12.65   -8.00  \n3    -1.020687 -0.751380 -0.385005 -0.012326 -0.392197   9.03   38.74  \n4    -0.190488  0.306974  0.119658  0.271838  1.289783  34.03   -6.85  \n...        ...       ...       ...       ...       ...    ...     ...  \n1054  1.526307  0.646088  2.467278  1.867699  1.719302  -6.17   35.74  \n1055  0.182107  0.517466  1.126762  2.220671  4.422651  11.55  104.91  \n1056 -0.804297  0.044170 -0.718175 -0.983640 -0.573822  41.33   19.80  \n1057  1.240377 -0.546002 -0.137473 -0.781036 -0.832167  54.68   25.31  \n1058  0.960420  1.067164  5.244305  2.506568  1.462580  54.68   25.31  \n\n[1059 rows x 70 columns]",
      "text/html": "<div>\n<style scoped>\n    .dataframe tbody tr th:only-of-type {\n        vertical-align: middle;\n    }\n\n    .dataframe tbody tr th {\n        vertical-align: top;\n    }\n\n    .dataframe thead th {\n        text-align: right;\n    }\n</style>\n<table border=\"1\" class=\"dataframe\">\n  <thead>\n    <tr style=\"text-align: right;\">\n      <th></th>\n      <th>0</th>\n      <th>1</th>\n      <th>2</th>\n      <th>3</th>\n      <th>4</th>\n      <th>5</th>\n      <th>6</th>\n      <th>7</th>\n      <th>8</th>\n      <th>9</th>\n      <th>...</th>\n      <th>60</th>\n      <th>61</th>\n      <th>62</th>\n      <th>63</th>\n      <th>64</th>\n      <th>65</th>\n      <th>66</th>\n      <th>67</th>\n      <th>68</th>\n      <th>69</th>\n    </tr>\n  </thead>\n  <tbody>\n    <tr>\n      <th>0</th>\n      <td>7.161286</td>\n      <td>7.835325</td>\n      <td>2.911583</td>\n      <td>0.984049</td>\n      <td>-1.499546</td>\n      <td>-2.094097</td>\n      <td>0.576000</td>\n      <td>-1.205671</td>\n      <td>1.849122</td>\n      <td>-0.425598</td>\n      <td>...</td>\n      <td>-1.504263</td>\n      <td>0.351267</td>\n      <td>-1.018726</td>\n      <td>-0.174878</td>\n      <td>-1.089543</td>\n      <td>-0.668840</td>\n      <td>-0.914772</td>\n      <td>-0.836250</td>\n      <td>-15.75</td>\n      <td>-47.95</td>\n    </tr>\n    <tr>\n      <th>1</th>\n      <td>0.225763</td>\n      <td>-0.094169</td>\n      <td>-0.603646</td>\n      <td>0.497745</td>\n      <td>0.874036</td>\n      <td>0.290280</td>\n      <td>-0.077659</td>\n      <td>-0.887385</td>\n      <td>0.432062</td>\n      <td>-0.093963</td>\n      <td>...</td>\n      <td>-0.495712</td>\n      <td>-0.465077</td>\n      <td>-0.157861</td>\n      <td>-0.157189</td>\n      <td>0.380951</td>\n      <td>1.088478</td>\n      <td>-0.123595</td>\n      <td>1.391141</td>\n      <td>14.91</td>\n      <td>-23.51</td>\n    </tr>\n    <tr>\n      <th>2</th>\n      <td>-0.692525</td>\n      <td>-0.517801</td>\n      <td>-0.788035</td>\n      <td>1.214351</td>\n      <td>-0.907214</td>\n      <td>0.880213</td>\n      <td>0.406899</td>\n      <td>-0.694895</td>\n      <td>-0.901869</td>\n      <td>-1.701574</td>\n      <td>...</td>\n      <td>-0.637167</td>\n      <td>0.147260</td>\n      <td>0.217914</td>\n      <td>2.718442</td>\n      <td>0.972919</td>\n      <td>2.081069</td>\n      <td>1.375763</td>\n      <td>1.063847</td>\n      <td>12.65</td>\n      <td>-8.00</td>\n    </tr>\n    <tr>\n      <th>3</th>\n      <td>-0.735562</td>\n      <td>-0.684055</td>\n      <td>2.058215</td>\n      <td>0.716328</td>\n      <td>-0.011393</td>\n      <td>0.805396</td>\n      <td>1.497982</td>\n      <td>0.114752</td>\n      <td>0.692847</td>\n      <td>0.052377</td>\n      <td>...</td>\n      <td>-0.178325</td>\n      <td>-0.065059</td>\n      <td>-0.724247</td>\n      <td>-1.020687</td>\n      <td>-0.751380</td>\n      <td>-0.385005</td>\n      <td>-0.012326</td>\n      <td>-0.392197</td>\n      <td>9.03</td>\n      <td>38.74</td>\n    </tr>\n    <tr>\n      <th>4</th>\n      <td>0.570272</td>\n      <td>0.273157</td>\n      <td>-0.279214</td>\n      <td>0.083456</td>\n      <td>1.049331</td>\n      <td>-0.869295</td>\n      <td>-0.265858</td>\n      <td>-0.401676</td>\n      <td>-0.872639</td>\n      <td>1.147483</td>\n      <td>...</td>\n      <td>-0.919463</td>\n      <td>-0.667912</td>\n      <td>-0.820172</td>\n      <td>-0.190488</td>\n      <td>0.306974</td>\n      <td>0.119658</td>\n      <td>0.271838</td>\n      <td>1.289783</td>\n      <td>34.03</td>\n      <td>-6.85</td>\n    </tr>\n    <tr>\n      <th>...</th>\n      <td>...</td>\n      <td>...</td>\n      <td>...</td>\n      <td>...</td>\n      <td>...</td>\n      <td>...</td>\n      <td>...</td>\n      <td>...</td>\n      <td>...</td>\n      <td>...</td>\n      <td>...</td>\n      <td>...</td>\n      <td>...</td>\n      <td>...</td>\n      <td>...</td>\n      <td>...</td>\n      <td>...</td>\n      <td>...</td>\n      <td>...</td>\n      <td>...</td>\n      <td>...</td>\n    </tr>\n    <tr>\n      <th>1054</th>\n      <td>0.399577</td>\n      <td>0.310805</td>\n      <td>-0.039326</td>\n      <td>-0.111546</td>\n      <td>0.304586</td>\n      <td>-0.943453</td>\n      <td>0.114960</td>\n      <td>-0.335898</td>\n      <td>0.826753</td>\n      <td>-0.393786</td>\n      <td>...</td>\n      <td>-0.558717</td>\n      <td>0.998897</td>\n      <td>-0.106835</td>\n      <td>1.526307</td>\n      <td>0.646088</td>\n      <td>2.467278</td>\n      <td>1.867699</td>\n      <td>1.719302</td>\n      <td>-6.17</td>\n      <td>35.74</td>\n    </tr>\n    <tr>\n      <th>1055</th>\n      <td>1.640386</td>\n      <td>1.306224</td>\n      <td>0.192745</td>\n      <td>-1.816855</td>\n      <td>-1.311906</td>\n      <td>-2.128963</td>\n      <td>-1.875967</td>\n      <td>0.094232</td>\n      <td>-1.429742</td>\n      <td>0.873777</td>\n      <td>...</td>\n      <td>0.223143</td>\n      <td>-0.032425</td>\n      <td>0.226782</td>\n      <td>0.182107</td>\n      <td>0.517466</td>\n      <td>1.126762</td>\n      <td>2.220671</td>\n      <td>4.422651</td>\n      <td>11.55</td>\n      <td>104.91</td>\n    </tr>\n    <tr>\n      <th>1056</th>\n      <td>-0.772360</td>\n      <td>-0.670596</td>\n      <td>-0.840420</td>\n      <td>-0.832105</td>\n      <td>0.277346</td>\n      <td>1.152162</td>\n      <td>0.241470</td>\n      <td>0.229092</td>\n      <td>0.019036</td>\n      <td>-0.068804</td>\n      <td>...</td>\n      <td>0.449239</td>\n      <td>-0.965270</td>\n      <td>-0.590039</td>\n      <td>-0.804297</td>\n      <td>0.044170</td>\n      <td>-0.718175</td>\n      <td>-0.983640</td>\n      <td>-0.573822</td>\n      <td>41.33</td>\n      <td>19.80</td>\n    </tr>\n    <tr>\n      <th>1057</th>\n      <td>-0.996965</td>\n      <td>-1.099395</td>\n      <td>3.515274</td>\n      <td>-0.508185</td>\n      <td>-1.102654</td>\n      <td>0.192081</td>\n      <td>0.069821</td>\n      <td>0.264674</td>\n      <td>-0.411533</td>\n      <td>0.501164</td>\n      <td>...</td>\n      <td>1.941398</td>\n      <td>1.769292</td>\n      <td>0.738616</td>\n      <td>1.240377</td>\n      <td>-0.546002</td>\n      <td>-0.137473</td>\n      <td>-0.781036</td>\n      <td>-0.832167</td>\n      <td>54.68</td>\n      <td>25.31</td>\n    </tr>\n    <tr>\n      <th>1058</th>\n      <td>-0.150911</td>\n      <td>-0.094333</td>\n      <td>-0.568885</td>\n      <td>-0.614652</td>\n      <td>0.332477</td>\n      <td>-0.954948</td>\n      <td>-1.527722</td>\n      <td>-1.591471</td>\n      <td>-3.678713</td>\n      <td>-5.930209</td>\n      <td>...</td>\n      <td>5.121875</td>\n      <td>4.103031</td>\n      <td>3.673086</td>\n      <td>0.960420</td>\n      <td>1.067164</td>\n      <td>5.244305</td>\n      <td>2.506568</td>\n      <td>1.462580</td>\n      <td>54.68</td>\n      <td>25.31</td>\n    </tr>\n  </tbody>\n</table>\n<p>1059 rows × 70 columns</p>\n</div>"
     },
     "execution_count": 174,
     "metadata": {},
     "output_type": "execute_result"
    }
   ],
   "source": [
    "df = pd.read_csv('default_features_1059_tracks.txt', header=None )\n",
    "df.to_numpy()\n",
    "df"
   ],
   "metadata": {
    "collapsed": false,
    "pycharm": {
     "name": "#%%\n"
    }
   }
  },
  {
   "cell_type": "code",
   "execution_count": 175,
   "outputs": [],
   "source": [
    "data = df.iloc[:,:68] # each row is a song\n",
    "y = df.iloc[:,68:] # # latitude & longitude"
   ],
   "metadata": {
    "collapsed": false,
    "pycharm": {
     "name": "#%%\n"
    }
   }
  },
  {
   "cell_type": "code",
   "execution_count": 176,
   "outputs": [
    {
     "data": {
      "text/plain": "array([[ 3.5680e+01,  5.1410e+01],\n       [ 3.4030e+01, -6.8500e+00],\n       [ 1.3750e+01,  1.0048e+02],\n       [-1.5750e+01, -4.7950e+01],\n       [ 3.0030e+01,  3.1210e+01],\n       [ 2.8610e+01,  7.7200e+01],\n       [-3.5300e+01,  1.4912e+02],\n       [ 1.7980e+01, -7.6800e+01],\n       [ 3.9910e+01,  1.1638e+02],\n       [-6.1700e+00,  3.5740e+01],\n       [ 1.4660e+01, -1.7410e+01],\n       [ 5.4680e+01,  2.5310e+01],\n       [ 5.2500e+01, -1.2000e-01],\n       [ 3.8000e+01,  2.3710e+01],\n       [ 4.2860e+01,  7.4600e+01],\n       [-6.1700e+00,  1.0682e+02],\n       [ 2.3760e+01,  1.2100e+02],\n       [ 3.5700e+01,  1.3971e+02],\n       [ 9.0300e+00,  3.8740e+01],\n       [ 1.2650e+01, -8.0000e+00],\n       [ 4.1900e+01,  1.2480e+01],\n       [ 1.9750e+01,  9.6100e+01],\n       [ 3.6700e+01,  3.2100e+00],\n       [ 3.9910e+01,  3.2830e+01],\n       [ 3.3660e+01,  7.3160e+01],\n       [ 4.1710e+01,  4.4780e+01],\n       [ 1.7250e+01, -8.8760e+01],\n       [ 1.4910e+01, -2.3510e+01],\n       [ 4.1260e+01,  6.9210e+01],\n       [ 4.4410e+01,  2.6100e+01],\n       [-1.2600e+00,  3.6800e+01],\n       [ 4.1330e+01,  1.9800e+01],\n       [ 1.1550e+01,  1.0491e+02]])"
     },
     "execution_count": 176,
     "metadata": {},
     "output_type": "execute_result"
    }
   ],
   "source": [
    " # The dataset was built from a personal collection of 1059 tracks covering 33 countries/area\n",
    "NumClusters = 33\n",
    "kmeans = KMeans(n_clusters=NumClusters , max_iter=600 )\n",
    "kmeans = kmeans.fit(y)\n",
    "labels = kmeans.predict(y)\n",
    "centroids = kmeans.cluster_centers_\n",
    "centroids"
   ],
   "metadata": {
    "collapsed": false,
    "pycharm": {
     "name": "#%%\n"
    }
   }
  },
  {
   "cell_type": "code",
   "execution_count": 177,
   "outputs": [
    {
     "data": {
      "text/plain": "<Figure size 432x288 with 0 Axes>"
     },
     "execution_count": 177,
     "metadata": {},
     "output_type": "execute_result"
    },
    {
     "data": {
      "text/plain": "<Figure size 432x288 with 1 Axes>",
      "image/png": "[encoded data removed]"
     },
     "metadata": {
      "needs_background": "light"
     },
     "output_type": "display_data"
    },
    {
     "data": {
      "text/plain": "<Figure size 432x288 with 0 Axes>"
     },
     "metadata": {},
     "output_type": "display_data"
    }
   ],
   "source": [
    "cmap = cm.get_cmap(\"Spectral\")\n",
    "colors = [cmap(float(l) /NumClusters) for l in labels]\n",
    "plt.scatter(y.iloc[:, 1], y.iloc[:, 0], c = colors, s=25)\n",
    "plt.xlabel(\"Longitude\")\n",
    "plt.ylabel(\"Latitude\")\n",
    "plt.figure()"
   ],
   "metadata": {
    "collapsed": false,
    "pycharm": {
     "name": "#%%\n"
    }
   }
  },
  {
   "cell_type": "code",
   "execution_count": 178,
   "outputs": [
    {
     "name": "stdout",
     "output_type": "stream",
     "text": [
      "Training set shape: (741, 68)\n",
      "Testing set shape: (318, 68)\n"
     ]
    }
   ],
   "source": [
    "y = labels\n",
    "X_train, X_test, y_train, y_test = train_test_split(data, y,test_size = 0.30)\n",
    "print(f\"Training set shape: {X_train.shape}\")\n",
    "print(f\"Testing set shape: {X_test.shape}\")\n"
   ],
   "metadata": {
    "collapsed": false,
    "pycharm": {
     "name": "#%%\n"
    }
   }
  },
  {
   "cell_type": "code",
   "execution_count": 179,
   "outputs": [],
   "source": [
    "from sklearn.preprocessing import StandardScaler\n",
    "\n",
    "scaler_data = pd.DataFrame(StandardScaler().fit_transform(data),\n",
    "columns=df.columns[0:68])\n",
    "\n",
    "scaled_Xtrain = StandardScaler().fit_transform(X_train)\n",
    "scaled_Xtest =  StandardScaler().fit_transform(X_test)"
   ],
   "metadata": {
    "collapsed": false,
    "pycharm": {
     "name": "#%%\n"
    }
   }
  },
  {
   "cell_type": "code",
   "execution_count": 180,
   "outputs": [
    {
     "data": {
      "text/plain": "<Figure size 432x288 with 1 Axes>",
      "image/png": "[encoded data removed]"
     },
     "metadata": {
      "needs_background": "light"
     },
     "output_type": "display_data"
    }
   ],
   "source": [
    "from sklearn.decomposition import PCA\n",
    "pca = PCA(n_components=68) #\n",
    "principalComponents = pca.fit_transform(scaler_data)\n",
    "a= [1- i for i in pca.explained_variance_ratio_]\n",
    "#????\n",
    "\n",
    "X_scaler = StandardScaler().fit(data)\n",
    "PCA_var = PCA(n_components = X_scaler.transform(data).shape[1])\n",
    "PCA_var.fit(X_scaler.transform(data))\n",
    "PCA_var_exp = [1 - x/sum(PCA_var.explained_variance_) for x in PCA_var.explained_variance_]\n",
    "\n",
    "plt.figure()\n",
    "plt.title(\"PCA variance explained over number of PCs\")\n",
    "plt.xlabel(\"Number of PCs\")\n",
    "plt.ylabel(\"Ratio of variance explained\")\n",
    "plt.plot(range(0, len(a), 1), a, c = 'r')\n",
    "plt.show()\n"
   ],
   "metadata": {
    "collapsed": false,
    "pycharm": {
     "name": "#%%\n"
    }
   }
  },
  {
   "cell_type": "markdown",
   "source": [],
   "metadata": {
    "collapsed": false,
    "pycharm": {
     "name": "#%% md\n"
    }
   }
  },
  {
   "cell_type": "code",
   "execution_count": 181,
   "outputs": [
    {
     "name": "stdout",
     "output_type": "stream",
     "text": [
      "Random Forest accuracy:0.4371069182389937\n"
     ]
    }
   ],
   "source": [
    "from sklearn import metrics\n",
    "from sklearn.ensemble import RandomForestClassifier\n",
    "\n",
    "# RandomForest Classifier\n",
    "rf = RandomForestClassifier(n_estimators=100).fit(X_train, y_train)\n",
    "rf_pred = rf.predict(X_test)\n",
    "print(f\"Random Forest accuracy:{metrics.accuracy_score(y_test,rf_pred)}\")\n",
    "#print(confusion_matrix(y_test, rf_pred))"
   ],
   "metadata": {
    "collapsed": false,
    "pycharm": {
     "name": "#%%\n"
    }
   }
  },
  {
   "cell_type": "code",
   "execution_count": 182,
   "outputs": [
    {
     "data": {
      "text/plain": "array([False, False,  True,  True,  True,  True, False, False,  True,\n        True, False,  True,  True, False,  True, False, False, False,\n        True,  True,  True,  True,  True,  True,  True, False, False,\n       False, False, False, False, False, False, False,  True,  True,\n        True,  True,  True, False, False, False, False, False, False,\n       False, False, False, False, False, False,  True,  True, False,\n        True,  True,  True, False,  True,  True, False, False, False,\n       False, False, False, False, False])"
     },
     "execution_count": 182,
     "metadata": {},
     "output_type": "execute_result"
    }
   ],
   "source": [
    "from sklearn.feature_selection import SelectFromModel\n",
    "sel = SelectFromModel(RandomForestClassifier(n_estimators = 10))\n",
    "sel.fit(X_train, y_train)\n",
    "# To see which features are important we can use get_support method on the fitted model.\n",
    "Important_features = sel.get_support()\n",
    "Important_features"
   ],
   "metadata": {
    "collapsed": false,
    "pycharm": {
     "name": "#%%\n"
    }
   }
  },
  {
   "cell_type": "code",
   "execution_count": 183,
   "outputs": [
    {
     "name": "stdout",
     "output_type": "stream",
     "text": [
      "28\n",
      "Int64Index([ 2,  3,  4,  5,  8,  9, 11, 12, 14, 18, 19, 20, 21, 22, 23, 24, 34,\n",
      "            35, 36, 37, 38, 51, 52, 54, 55, 56, 58, 59],\n",
      "           dtype='int64')\n"
     ]
    },
    {
     "data": {
      "text/plain": "            2         3         4         5         8         9         11  \\\n0     2.911583  0.984049 -1.499546 -2.094097  1.849122 -0.425598  1.728885   \n1    -0.603646  0.497745  0.874036  0.290280  0.432062 -0.093963  0.407297   \n2    -0.788035  1.214351 -0.907214  0.880213 -0.901869 -1.701574 -0.791393   \n3     2.058215  0.716328 -0.011393  0.805396  0.692847  0.052377  0.429205   \n4    -0.279214  0.083456  1.049331 -0.869295 -0.872639  1.147483  1.824638   \n...        ...       ...       ...       ...       ...       ...       ...   \n1054 -0.039326 -0.111546  0.304586 -0.943453  0.826753 -0.393786 -0.399561   \n1055  0.192745 -1.816855 -1.311906 -2.128963 -1.429742  0.873777 -0.681298   \n1056 -0.840420 -0.832105  0.277346  1.152162  0.019036 -0.068804  0.636144   \n1057  3.515274 -0.508185 -1.102654  0.192081 -0.411533  0.501164 -0.178807   \n1058 -0.568885 -0.614652  0.332477 -0.954948 -3.678713 -5.930209  0.881171   \n\n            12        14        18  ...        36        37        38  \\\n0     1.788986 -1.109353  6.007710  ...  0.317270 -0.130580  2.048282   \n1    -0.034418 -1.587712  0.549205  ... -0.402494  0.058298 -0.221967   \n2    -1.667463 -0.151747 -0.463102  ... -0.291778 -0.274901 -0.351297   \n3     0.576029  0.519513  0.001966  ...  2.535289  0.537780  0.190260   \n4    -0.861848 -0.966604 -0.044704  ... -0.324638 -0.089385 -0.186612   \n...        ...       ...       ...  ...       ...       ...       ...   \n1054 -0.902700  0.755288  0.533387  ...  0.112375 -1.306445 -0.203477   \n1055  0.547811 -0.687724 -0.726096  ... -0.410138 -0.732524  1.261700   \n1056 -0.392233  0.361104 -0.685403  ... -0.340651 -0.942980 -0.993363   \n1057 -1.071450 -0.039610 -0.724768  ...  4.228199  0.055216  0.449377   \n1058 -0.138141  0.026369 -0.658959  ... -1.154825 -0.265373 -0.388169   \n\n            51        52        54        55        56        58        59  \n0     1.319729  1.094839 -0.895371 -0.734962  0.441859 -0.944584 -0.043610  \n1     1.627259  1.989545 -0.176835  0.406589 -0.623764 -0.082645 -0.947933  \n2    -0.654047  0.264883 -0.405171  0.170239  0.067260 -0.797954 -0.556109  \n3     2.301748  2.547275 -0.179182  0.112038  0.983122 -0.805626  0.166616  \n4     0.984157  0.279686 -0.078594 -0.250279 -1.169305 -0.180181 -0.500785  \n...        ...       ...       ...       ...       ...       ...       ...  \n1054 -0.081286 -0.015762  0.119565  1.489708 -0.440270 -0.406932  0.425577  \n1055 -0.636212 -1.622788  0.260389  2.550315  2.143525 -0.467663  0.723125  \n1056  0.087498  0.059951  0.284195  0.718086 -0.096274 -0.413309 -0.287753  \n1057 -0.578250 -0.501226 -0.130229 -1.021024 -0.846366  4.288337  1.565493  \n1058 -0.710954 -0.557389  0.136330 -0.773602 -1.317640  0.508200  4.159140  \n\n[1059 rows x 28 columns]",
      "text/html": "<div>\n<style scoped>\n    .dataframe tbody tr th:only-of-type {\n        vertical-align: middle;\n    }\n\n    .dataframe tbody tr th {\n        vertical-align: top;\n    }\n\n    .dataframe thead th {\n        text-align: right;\n    }\n</style>\n<table border=\"1\" class=\"dataframe\">\n  <thead>\n    <tr style=\"text-align: right;\">\n      <th></th>\n      <th>2</th>\n      <th>3</th>\n      <th>4</th>\n      <th>5</th>\n      <th>8</th>\n      <th>9</th>\n      <th>11</th>\n      <th>12</th>\n      <th>14</th>\n      <th>18</th>\n      <th>...</th>\n      <th>36</th>\n      <th>37</th>\n      <th>38</th>\n      <th>51</th>\n      <th>52</th>\n      <th>54</th>\n      <th>55</th>\n      <th>56</th>\n      <th>58</th>\n      <th>59</th>\n    </tr>\n  </thead>\n  <tbody>\n    <tr>\n      <th>0</th>\n      <td>2.911583</td>\n      <td>0.984049</td>\n      <td>-1.499546</td>\n      <td>-2.094097</td>\n      <td>1.849122</td>\n      <td>-0.425598</td>\n      <td>1.728885</td>\n      <td>1.788986</td>\n      <td>-1.109353</td>\n      <td>6.007710</td>\n      <td>...</td>\n      <td>0.317270</td>\n      <td>-0.130580</td>\n      <td>2.048282</td>\n      <td>1.319729</td>\n      <td>1.094839</td>\n      <td>-0.895371</td>\n      <td>-0.734962</td>\n      <td>0.441859</td>\n      <td>-0.944584</td>\n      <td>-0.043610</td>\n    </tr>\n    <tr>\n      <th>1</th>\n      <td>-0.603646</td>\n      <td>0.497745</td>\n      <td>0.874036</td>\n      <td>0.290280</td>\n      <td>0.432062</td>\n      <td>-0.093963</td>\n      <td>0.407297</td>\n      <td>-0.034418</td>\n      <td>-1.587712</td>\n      <td>0.549205</td>\n      <td>...</td>\n      <td>-0.402494</td>\n      <td>0.058298</td>\n      <td>-0.221967</td>\n      <td>1.627259</td>\n      <td>1.989545</td>\n      <td>-0.176835</td>\n      <td>0.406589</td>\n      <td>-0.623764</td>\n      <td>-0.082645</td>\n      <td>-0.947933</td>\n    </tr>\n    <tr>\n      <th>2</th>\n      <td>-0.788035</td>\n      <td>1.214351</td>\n      <td>-0.907214</td>\n      <td>0.880213</td>\n      <td>-0.901869</td>\n      <td>-1.701574</td>\n      <td>-0.791393</td>\n      <td>-1.667463</td>\n      <td>-0.151747</td>\n      <td>-0.463102</td>\n      <td>...</td>\n      <td>-0.291778</td>\n      <td>-0.274901</td>\n      <td>-0.351297</td>\n      <td>-0.654047</td>\n      <td>0.264883</td>\n      <td>-0.405171</td>\n      <td>0.170239</td>\n      <td>0.067260</td>\n      <td>-0.797954</td>\n      <td>-0.556109</td>\n    </tr>\n    <tr>\n      <th>3</th>\n      <td>2.058215</td>\n      <td>0.716328</td>\n      <td>-0.011393</td>\n      <td>0.805396</td>\n      <td>0.692847</td>\n      <td>0.052377</td>\n      <td>0.429205</td>\n      <td>0.576029</td>\n      <td>0.519513</td>\n      <td>0.001966</td>\n      <td>...</td>\n      <td>2.535289</td>\n      <td>0.537780</td>\n      <td>0.190260</td>\n      <td>2.301748</td>\n      <td>2.547275</td>\n      <td>-0.179182</td>\n      <td>0.112038</td>\n      <td>0.983122</td>\n      <td>-0.805626</td>\n      <td>0.166616</td>\n    </tr>\n    <tr>\n      <th>4</th>\n      <td>-0.279214</td>\n      <td>0.083456</td>\n      <td>1.049331</td>\n      <td>-0.869295</td>\n      <td>-0.872639</td>\n      <td>1.147483</td>\n      <td>1.824638</td>\n      <td>-0.861848</td>\n      <td>-0.966604</td>\n      <td>-0.044704</td>\n      <td>...</td>\n      <td>-0.324638</td>\n      <td>-0.089385</td>\n      <td>-0.186612</td>\n      <td>0.984157</td>\n      <td>0.279686</td>\n      <td>-0.078594</td>\n      <td>-0.250279</td>\n      <td>-1.169305</td>\n      <td>-0.180181</td>\n      <td>-0.500785</td>\n    </tr>\n    <tr>\n      <th>...</th>\n      <td>...</td>\n      <td>...</td>\n      <td>...</td>\n      <td>...</td>\n      <td>...</td>\n      <td>...</td>\n      <td>...</td>\n      <td>...</td>\n      <td>...</td>\n      <td>...</td>\n      <td>...</td>\n      <td>...</td>\n      <td>...</td>\n      <td>...</td>\n      <td>...</td>\n      <td>...</td>\n      <td>...</td>\n      <td>...</td>\n      <td>...</td>\n      <td>...</td>\n      <td>...</td>\n    </tr>\n    <tr>\n      <th>1054</th>\n      <td>-0.039326</td>\n      <td>-0.111546</td>\n      <td>0.304586</td>\n      <td>-0.943453</td>\n      <td>0.826753</td>\n      <td>-0.393786</td>\n      <td>-0.399561</td>\n      <td>-0.902700</td>\n      <td>0.755288</td>\n      <td>0.533387</td>\n      <td>...</td>\n      <td>0.112375</td>\n      <td>-1.306445</td>\n      <td>-0.203477</td>\n      <td>-0.081286</td>\n      <td>-0.015762</td>\n      <td>0.119565</td>\n      <td>1.489708</td>\n      <td>-0.440270</td>\n      <td>-0.406932</td>\n      <td>0.425577</td>\n    </tr>\n    <tr>\n      <th>1055</th>\n      <td>0.192745</td>\n      <td>-1.816855</td>\n      <td>-1.311906</td>\n      <td>-2.128963</td>\n      <td>-1.429742</td>\n      <td>0.873777</td>\n      <td>-0.681298</td>\n      <td>0.547811</td>\n      <td>-0.687724</td>\n      <td>-0.726096</td>\n      <td>...</td>\n      <td>-0.410138</td>\n      <td>-0.732524</td>\n      <td>1.261700</td>\n      <td>-0.636212</td>\n      <td>-1.622788</td>\n      <td>0.260389</td>\n      <td>2.550315</td>\n      <td>2.143525</td>\n      <td>-0.467663</td>\n      <td>0.723125</td>\n    </tr>\n    <tr>\n      <th>1056</th>\n      <td>-0.840420</td>\n      <td>-0.832105</td>\n      <td>0.277346</td>\n      <td>1.152162</td>\n      <td>0.019036</td>\n      <td>-0.068804</td>\n      <td>0.636144</td>\n      <td>-0.392233</td>\n      <td>0.361104</td>\n      <td>-0.685403</td>\n      <td>...</td>\n      <td>-0.340651</td>\n      <td>-0.942980</td>\n      <td>-0.993363</td>\n      <td>0.087498</td>\n      <td>0.059951</td>\n      <td>0.284195</td>\n      <td>0.718086</td>\n      <td>-0.096274</td>\n      <td>-0.413309</td>\n      <td>-0.287753</td>\n    </tr>\n    <tr>\n      <th>1057</th>\n      <td>3.515274</td>\n      <td>-0.508185</td>\n      <td>-1.102654</td>\n      <td>0.192081</td>\n      <td>-0.411533</td>\n      <td>0.501164</td>\n      <td>-0.178807</td>\n      <td>-1.071450</td>\n      <td>-0.039610</td>\n      <td>-0.724768</td>\n      <td>...</td>\n      <td>4.228199</td>\n      <td>0.055216</td>\n      <td>0.449377</td>\n      <td>-0.578250</td>\n      <td>-0.501226</td>\n      <td>-0.130229</td>\n      <td>-1.021024</td>\n      <td>-0.846366</td>\n      <td>4.288337</td>\n      <td>1.565493</td>\n    </tr>\n    <tr>\n      <th>1058</th>\n      <td>-0.568885</td>\n      <td>-0.614652</td>\n      <td>0.332477</td>\n      <td>-0.954948</td>\n      <td>-3.678713</td>\n      <td>-5.930209</td>\n      <td>0.881171</td>\n      <td>-0.138141</td>\n      <td>0.026369</td>\n      <td>-0.658959</td>\n      <td>...</td>\n      <td>-1.154825</td>\n      <td>-0.265373</td>\n      <td>-0.388169</td>\n      <td>-0.710954</td>\n      <td>-0.557389</td>\n      <td>0.136330</td>\n      <td>-0.773602</td>\n      <td>-1.317640</td>\n      <td>0.508200</td>\n      <td>4.159140</td>\n    </tr>\n  </tbody>\n</table>\n<p>1059 rows × 28 columns</p>\n</div>"
     },
     "execution_count": 183,
     "metadata": {},
     "output_type": "execute_result"
    }
   ],
   "source": [
    "selected_feat= X_train.columns[(sel.get_support())]\n",
    "print(len(selected_feat))\n",
    "print(selected_feat)\n",
    "\n",
    "New_df = df.iloc[:,selected_feat] # data frame with only the selected features\n",
    "New_df"
   ],
   "metadata": {
    "collapsed": false,
    "pycharm": {
     "name": "#%%\n"
    }
   }
  },
  {
   "cell_type": "code",
   "execution_count": 184,
   "outputs": [
    {
     "name": "stdout",
     "output_type": "stream",
     "text": [
      "Training set shape: (741, 28)\n",
      "Testing set shape: (318, 28)\n",
      "Random Forest accuracy:0.4528301886792453\n"
     ]
    }
   ],
   "source": [
    "NX_train, NX_test, Ny_train, Ny_test = train_test_split(New_df, y,test_size = 0.30)\n",
    "print(f\"Training set shape: {NX_train.shape}\")\n",
    "print(f\"Testing set shape: {NX_test.shape}\")\n",
    "\n",
    "Nrf = RandomForestClassifier(n_estimators=100).fit(NX_train, Ny_train)\n",
    "Nrf_pred = Nrf.predict(NX_test)\n",
    "print(f\"Random Forest accuracy:{metrics.accuracy_score(Ny_test,Nrf_pred)}\")"
   ],
   "metadata": {
    "collapsed": false,
    "pycharm": {
     "name": "#%%\n"
    }
   }
  }
 ],
 "metadata": {
  "kernelspec": {
   "display_name": "Python 3",
   "language": "python",
   "name": "python3"
  },
  "language_info": {
   "codemirror_mode": {
    "name": "ipython",
    "version": 2
   },
   "file_extension": ".py",
   "mimetype": "text/x-python",
   "name": "python",
   "nbconvert_exporter": "python",
   "pygments_lexer": "ipython2",
   "version": "2.7.6"
  }
 },
 "nbformat": 4,
 "nbformat_minor": 0
}