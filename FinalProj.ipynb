{
 "cells": [
  {
   "cell_type": "code",
   "execution_count": 494,
   "metadata": {
    "collapsed": true,
    "pycharm": {
     "name": "#%%\n"
    }
   },
   "outputs": [],
   "source": [
    "import matplotlib.pyplot as plt\n",
    "import  matplotlib.cm as cm\n",
    "import pandas as pd\n",
    "from sklearn.cluster import KMeans\n",
    "from sklearn.model_selection import train_test_split\n",
    "from sklearn.preprocessing import StandardScaler\n",
    "from sklearn.decomposition import PCA\n",
    "from sklearn import metrics\n",
    "from sklearn.ensemble import RandomForestClassifier\n",
    "from sklearn.feature_selection import SelectFromModel"
   ]
  },
  {
   "cell_type": "code",
   "execution_count": 495,
   "outputs": [
    {
     "data": {
      "text/plain": "         0         1         2         3         4         5         6   \\\n0  7.161286  7.835325  2.911583  0.984049 -1.499546 -2.094097  0.576000   \n1  0.225763 -0.094169 -0.603646  0.497745  0.874036  0.290280 -0.077659   \n2 -0.692525 -0.517801 -0.788035  1.214351 -0.907214  0.880213  0.406899   \n3 -0.735562 -0.684055  2.058215  0.716328 -0.011393  0.805396  1.497982   \n4  0.570272  0.273157 -0.279214  0.083456  1.049331 -0.869295 -0.265858   \n\n         7         8         9   ...        60        61        62        63  \\\n0 -1.205671  1.849122 -0.425598  ... -1.504263  0.351267 -1.018726 -0.174878   \n1 -0.887385  0.432062 -0.093963  ... -0.495712 -0.465077 -0.157861 -0.157189   \n2 -0.694895 -0.901869 -1.701574  ... -0.637167  0.147260  0.217914  2.718442   \n3  0.114752  0.692847  0.052377  ... -0.178325 -0.065059 -0.724247 -1.020687   \n4 -0.401676 -0.872639  1.147483  ... -0.919463 -0.667912 -0.820172 -0.190488   \n\n         64        65        66        67     68     69  \n0 -1.089543 -0.668840 -0.914772 -0.836250 -15.75 -47.95  \n1  0.380951  1.088478 -0.123595  1.391141  14.91 -23.51  \n2  0.972919  2.081069  1.375763  1.063847  12.65  -8.00  \n3 -0.751380 -0.385005 -0.012326 -0.392197   9.03  38.74  \n4  0.306974  0.119658  0.271838  1.289783  34.03  -6.85  \n\n[5 rows x 70 columns]",
      "text/html": "<div>\n<style scoped>\n    .dataframe tbody tr th:only-of-type {\n        vertical-align: middle;\n    }\n\n    .dataframe tbody tr th {\n        vertical-align: top;\n    }\n\n    .dataframe thead th {\n        text-align: right;\n    }\n</style>\n<table border=\"1\" class=\"dataframe\">\n  <thead>\n    <tr style=\"text-align: right;\">\n      <th></th>\n      <th>0</th>\n      <th>1</th>\n      <th>2</th>\n      <th>3</th>\n      <th>4</th>\n      <th>5</th>\n      <th>6</th>\n      <th>7</th>\n      <th>8</th>\n      <th>9</th>\n      <th>...</th>\n      <th>60</th>\n      <th>61</th>\n      <th>62</th>\n      <th>63</th>\n      <th>64</th>\n      <th>65</th>\n      <th>66</th>\n      <th>67</th>\n      <th>68</th>\n      <th>69</th>\n    </tr>\n  </thead>\n  <tbody>\n    <tr>\n      <th>0</th>\n      <td>7.161286</td>\n      <td>7.835325</td>\n      <td>2.911583</td>\n      <td>0.984049</td>\n      <td>-1.499546</td>\n      <td>-2.094097</td>\n      <td>0.576000</td>\n      <td>-1.205671</td>\n      <td>1.849122</td>\n      <td>-0.425598</td>\n      <td>...</td>\n      <td>-1.504263</td>\n      <td>0.351267</td>\n      <td>-1.018726</td>\n      <td>-0.174878</td>\n      <td>-1.089543</td>\n      <td>-0.668840</td>\n      <td>-0.914772</td>\n      <td>-0.836250</td>\n      <td>-15.75</td>\n      <td>-47.95</td>\n    </tr>\n    <tr>\n      <th>1</th>\n      <td>0.225763</td>\n      <td>-0.094169</td>\n      <td>-0.603646</td>\n      <td>0.497745</td>\n      <td>0.874036</td>\n      <td>0.290280</td>\n      <td>-0.077659</td>\n      <td>-0.887385</td>\n      <td>0.432062</td>\n      <td>-0.093963</td>\n      <td>...</td>\n      <td>-0.495712</td>\n      <td>-0.465077</td>\n      <td>-0.157861</td>\n      <td>-0.157189</td>\n      <td>0.380951</td>\n      <td>1.088478</td>\n      <td>-0.123595</td>\n      <td>1.391141</td>\n      <td>14.91</td>\n      <td>-23.51</td>\n    </tr>\n    <tr>\n      <th>2</th>\n      <td>-0.692525</td>\n      <td>-0.517801</td>\n      <td>-0.788035</td>\n      <td>1.214351</td>\n      <td>-0.907214</td>\n      <td>0.880213</td>\n      <td>0.406899</td>\n      <td>-0.694895</td>\n      <td>-0.901869</td>\n      <td>-1.701574</td>\n      <td>...</td>\n      <td>-0.637167</td>\n      <td>0.147260</td>\n      <td>0.217914</td>\n      <td>2.718442</td>\n      <td>0.972919</td>\n      <td>2.081069</td>\n      <td>1.375763</td>\n      <td>1.063847</td>\n      <td>12.65</td>\n      <td>-8.00</td>\n    </tr>\n    <tr>\n      <th>3</th>\n      <td>-0.735562</td>\n      <td>-0.684055</td>\n      <td>2.058215</td>\n      <td>0.716328</td>\n      <td>-0.011393</td>\n      <td>0.805396</td>\n      <td>1.497982</td>\n      <td>0.114752</td>\n      <td>0.692847</td>\n      <td>0.052377</td>\n      <td>...</td>\n      <td>-0.178325</td>\n      <td>-0.065059</td>\n      <td>-0.724247</td>\n      <td>-1.020687</td>\n      <td>-0.751380</td>\n      <td>-0.385005</td>\n      <td>-0.012326</td>\n      <td>-0.392197</td>\n      <td>9.03</td>\n      <td>38.74</td>\n    </tr>\n    <tr>\n      <th>4</th>\n      <td>0.570272</td>\n      <td>0.273157</td>\n      <td>-0.279214</td>\n      <td>0.083456</td>\n      <td>1.049331</td>\n      <td>-0.869295</td>\n      <td>-0.265858</td>\n      <td>-0.401676</td>\n      <td>-0.872639</td>\n      <td>1.147483</td>\n      <td>...</td>\n      <td>-0.919463</td>\n      <td>-0.667912</td>\n      <td>-0.820172</td>\n      <td>-0.190488</td>\n      <td>0.306974</td>\n      <td>0.119658</td>\n      <td>0.271838</td>\n      <td>1.289783</td>\n      <td>34.03</td>\n      <td>-6.85</td>\n    </tr>\n  </tbody>\n</table>\n<p>5 rows × 70 columns</p>\n</div>"
     },
     "execution_count": 495,
     "metadata": {},
     "output_type": "execute_result"
    }
   ],
   "source": [
    "df = pd.read_csv('default_features_1059_tracks.txt', header=None )\n",
    "df.head()"
   ],
   "metadata": {
    "collapsed": false,
    "pycharm": {
     "name": "#%%\n"
    }
   }
  },
  {
   "cell_type": "code",
   "execution_count": 496,
   "outputs": [
    {
     "data": {
      "text/plain": "    latitude  longitude  Count       Countries\n0     -35.30     149.12     14       Australia\n1     -15.75     -47.95     36          Brazil\n2      -6.17      35.74     20        Tanzania\n3      -6.17     106.82     25       Indonesia\n4      -1.26      36.80     32           Kenya\n5       9.03      38.74     30        Ethiopia\n6      11.55     104.91     14        Cambodia\n7      12.65      -8.00     66            Mali\n8      13.75     100.48     27        Thailand\n9      14.66     -17.41     24         Senegal\n10     14.91     -23.51     34      Cape Verde\n11     17.25     -88.76     11          Belize\n12     17.98     -76.80     22         Jamaica\n13     19.75      96.10     25         Myanmar\n14     23.76     121.00     25          Taiwan\n15     28.61      77.20     69           India\n16     30.03      31.21     31           Egypt\n17     33.66      73.16     47        Pakistan\n18     34.03      -6.85     33         Morocco\n19     35.68      51.41     23            Iran\n20     35.70     139.71     19           Japan\n21     36.70       3.21     35         Algeria\n22     38.00      23.71     46          Greece\n23     39.91      32.83     64          Turkey\n24     39.91     116.38     40           China\n25     41.26      69.21     36      Uzbekistan\n26     41.33      19.80     21         Albania\n27     41.71      44.78     29         Georgia\n28     41.90      12.48     51           Italy\n29     42.86      74.60     26      Kyrgyzstan\n30     44.41      26.10     19         Romania\n31     52.50      -0.12     33  United Kingdom\n32     54.68      25.31     32       Lithuania",
      "text/html": "<div>\n<style scoped>\n    .dataframe tbody tr th:only-of-type {\n        vertical-align: middle;\n    }\n\n    .dataframe tbody tr th {\n        vertical-align: top;\n    }\n\n    .dataframe thead th {\n        text-align: right;\n    }\n</style>\n<table border=\"1\" class=\"dataframe\">\n  <thead>\n    <tr style=\"text-align: right;\">\n      <th></th>\n      <th>latitude</th>\n      <th>longitude</th>\n      <th>Count</th>\n      <th>Countries</th>\n    </tr>\n  </thead>\n  <tbody>\n    <tr>\n      <th>0</th>\n      <td>-35.30</td>\n      <td>149.12</td>\n      <td>14</td>\n      <td>Australia</td>\n    </tr>\n    <tr>\n      <th>1</th>\n      <td>-15.75</td>\n      <td>-47.95</td>\n      <td>36</td>\n      <td>Brazil</td>\n    </tr>\n    <tr>\n      <th>2</th>\n      <td>-6.17</td>\n      <td>35.74</td>\n      <td>20</td>\n      <td>Tanzania</td>\n    </tr>\n    <tr>\n      <th>3</th>\n      <td>-6.17</td>\n      <td>106.82</td>\n      <td>25</td>\n      <td>Indonesia</td>\n    </tr>\n    <tr>\n      <th>4</th>\n      <td>-1.26</td>\n      <td>36.80</td>\n      <td>32</td>\n      <td>Kenya</td>\n    </tr>\n    <tr>\n      <th>5</th>\n      <td>9.03</td>\n      <td>38.74</td>\n      <td>30</td>\n      <td>Ethiopia</td>\n    </tr>\n    <tr>\n      <th>6</th>\n      <td>11.55</td>\n      <td>104.91</td>\n      <td>14</td>\n      <td>Cambodia</td>\n    </tr>\n    <tr>\n      <th>7</th>\n      <td>12.65</td>\n      <td>-8.00</td>\n      <td>66</td>\n      <td>Mali</td>\n    </tr>\n    <tr>\n      <th>8</th>\n      <td>13.75</td>\n      <td>100.48</td>\n      <td>27</td>\n      <td>Thailand</td>\n    </tr>\n    <tr>\n      <th>9</th>\n      <td>14.66</td>\n      <td>-17.41</td>\n      <td>24</td>\n      <td>Senegal</td>\n    </tr>\n    <tr>\n      <th>10</th>\n      <td>14.91</td>\n      <td>-23.51</td>\n      <td>34</td>\n      <td>Cape Verde</td>\n    </tr>\n    <tr>\n      <th>11</th>\n      <td>17.25</td>\n      <td>-88.76</td>\n      <td>11</td>\n      <td>Belize</td>\n    </tr>\n    <tr>\n      <th>12</th>\n      <td>17.98</td>\n      <td>-76.80</td>\n      <td>22</td>\n      <td>Jamaica</td>\n    </tr>\n    <tr>\n      <th>13</th>\n      <td>19.75</td>\n      <td>96.10</td>\n      <td>25</td>\n      <td>Myanmar</td>\n    </tr>\n    <tr>\n      <th>14</th>\n      <td>23.76</td>\n      <td>121.00</td>\n      <td>25</td>\n      <td>Taiwan</td>\n    </tr>\n    <tr>\n      <th>15</th>\n      <td>28.61</td>\n      <td>77.20</td>\n      <td>69</td>\n      <td>India</td>\n    </tr>\n    <tr>\n      <th>16</th>\n      <td>30.03</td>\n      <td>31.21</td>\n      <td>31</td>\n      <td>Egypt</td>\n    </tr>\n    <tr>\n      <th>17</th>\n      <td>33.66</td>\n      <td>73.16</td>\n      <td>47</td>\n      <td>Pakistan</td>\n    </tr>\n    <tr>\n      <th>18</th>\n      <td>34.03</td>\n      <td>-6.85</td>\n      <td>33</td>\n      <td>Morocco</td>\n    </tr>\n    <tr>\n      <th>19</th>\n      <td>35.68</td>\n      <td>51.41</td>\n      <td>23</td>\n      <td>Iran</td>\n    </tr>\n    <tr>\n      <th>20</th>\n      <td>35.70</td>\n      <td>139.71</td>\n      <td>19</td>\n      <td>Japan</td>\n    </tr>\n    <tr>\n      <th>21</th>\n      <td>36.70</td>\n      <td>3.21</td>\n      <td>35</td>\n      <td>Algeria</td>\n    </tr>\n    <tr>\n      <th>22</th>\n      <td>38.00</td>\n      <td>23.71</td>\n      <td>46</td>\n      <td>Greece</td>\n    </tr>\n    <tr>\n      <th>23</th>\n      <td>39.91</td>\n      <td>32.83</td>\n      <td>64</td>\n      <td>Turkey</td>\n    </tr>\n    <tr>\n      <th>24</th>\n      <td>39.91</td>\n      <td>116.38</td>\n      <td>40</td>\n      <td>China</td>\n    </tr>\n    <tr>\n      <th>25</th>\n      <td>41.26</td>\n      <td>69.21</td>\n      <td>36</td>\n      <td>Uzbekistan</td>\n    </tr>\n    <tr>\n      <th>26</th>\n      <td>41.33</td>\n      <td>19.80</td>\n      <td>21</td>\n      <td>Albania</td>\n    </tr>\n    <tr>\n      <th>27</th>\n      <td>41.71</td>\n      <td>44.78</td>\n      <td>29</td>\n      <td>Georgia</td>\n    </tr>\n    <tr>\n      <th>28</th>\n      <td>41.90</td>\n      <td>12.48</td>\n      <td>51</td>\n      <td>Italy</td>\n    </tr>\n    <tr>\n      <th>29</th>\n      <td>42.86</td>\n      <td>74.60</td>\n      <td>26</td>\n      <td>Kyrgyzstan</td>\n    </tr>\n    <tr>\n      <th>30</th>\n      <td>44.41</td>\n      <td>26.10</td>\n      <td>19</td>\n      <td>Romania</td>\n    </tr>\n    <tr>\n      <th>31</th>\n      <td>52.50</td>\n      <td>-0.12</td>\n      <td>33</td>\n      <td>United Kingdom</td>\n    </tr>\n    <tr>\n      <th>32</th>\n      <td>54.68</td>\n      <td>25.31</td>\n      <td>32</td>\n      <td>Lithuania</td>\n    </tr>\n  </tbody>\n</table>\n</div>"
     },
     "execution_count": 496,
     "metadata": {},
     "output_type": "execute_result"
    }
   ],
   "source": [
    "df.to_csv(\"data_table.csv\")\n",
    "ll: pd.DataFrame = df.iloc[:, 68:] # latitude & longitude\n",
    "ll.set_axis([\"latitude\", \"longitude\"],axis=1,inplace=True)\n",
    "pp = ll.groupby([\"latitude\",\"longitude\"]).size().reset_index(name=\"Count\")\n",
    "\n",
    "\n",
    "countries = [\"Australia\" ,\"Brazil\" , \"Tanzania\" , \"Indonesia\" , \"Kenya\" ,\"Ethiopia\",\"Cambodia\",\"Mali\",\"Thailand\",\"Senegal\",\"Cape Verde\",\"Belize\",\"Jamaica\",\"Myanmar\",\"Taiwan\",\"India\",\"Egypt\",\"Pakistan\",\"Morocco\",\"Iran\",\"Japan\",\"Algeria\",\"Greece\",\"Turkey\",\"China\",\"Uzbekistan\",\"Albania\",\"Georgia\",\"Italy\",\"Kyrgyzstan\",\"Romania\",\"United Kingdom\",\"Lithuania\"]\n",
    "\n",
    "pp[\"Countries\"] = countries\n",
    "pp.to_csv(\"countries.csv\")\n",
    "pp"
   ],
   "metadata": {
    "collapsed": false,
    "pycharm": {
     "name": "#%%\n"
    }
   }
  },
  {
   "cell_type": "code",
   "execution_count": 497,
   "outputs": [
    {
     "name": "stdout",
     "output_type": "stream",
     "text": [
      "the total number of rows and columns in the data set : \n",
      " (1059, 70)\n",
      "\n",
      "\n",
      "More information about the dataset : \n",
      "\n",
      "<class 'pandas.core.frame.DataFrame'>\n",
      "RangeIndex: 1059 entries, 0 to 1058\n",
      "Data columns (total 70 columns):\n",
      " #   Column  Non-Null Count  Dtype  \n",
      "---  ------  --------------  -----  \n",
      " 0   0       1059 non-null   float64\n",
      " 1   1       1059 non-null   float64\n",
      " 2   2       1059 non-null   float64\n",
      " 3   3       1059 non-null   float64\n",
      " 4   4       1059 non-null   float64\n",
      " 5   5       1059 non-null   float64\n",
      " 6   6       1059 non-null   float64\n",
      " 7   7       1059 non-null   float64\n",
      " 8   8       1059 non-null   float64\n",
      " 9   9       1059 non-null   float64\n",
      " 10  10      1059 non-null   float64\n",
      " 11  11      1059 non-null   float64\n",
      " 12  12      1059 non-null   float64\n",
      " 13  13      1059 non-null   float64\n",
      " 14  14      1059 non-null   float64\n",
      " 15  15      1059 non-null   float64\n",
      " 16  16      1059 non-null   float64\n",
      " 17  17      1059 non-null   float64\n",
      " 18  18      1059 non-null   float64\n",
      " 19  19      1059 non-null   float64\n",
      " 20  20      1059 non-null   float64\n",
      " 21  21      1059 non-null   float64\n",
      " 22  22      1059 non-null   float64\n",
      " 23  23      1059 non-null   float64\n",
      " 24  24      1059 non-null   float64\n",
      " 25  25      1059 non-null   float64\n",
      " 26  26      1059 non-null   float64\n",
      " 27  27      1059 non-null   float64\n",
      " 28  28      1059 non-null   float64\n",
      " 29  29      1059 non-null   float64\n",
      " 30  30      1059 non-null   float64\n",
      " 31  31      1059 non-null   float64\n",
      " 32  32      1059 non-null   float64\n",
      " 33  33      1059 non-null   float64\n",
      " 34  34      1059 non-null   float64\n",
      " 35  35      1059 non-null   float64\n",
      " 36  36      1059 non-null   float64\n",
      " 37  37      1059 non-null   float64\n",
      " 38  38      1059 non-null   float64\n",
      " 39  39      1059 non-null   float64\n",
      " 40  40      1059 non-null   float64\n",
      " 41  41      1059 non-null   float64\n",
      " 42  42      1059 non-null   float64\n",
      " 43  43      1059 non-null   float64\n",
      " 44  44      1059 non-null   float64\n",
      " 45  45      1059 non-null   float64\n",
      " 46  46      1059 non-null   float64\n",
      " 47  47      1059 non-null   float64\n",
      " 48  48      1059 non-null   float64\n",
      " 49  49      1059 non-null   float64\n",
      " 50  50      1059 non-null   float64\n",
      " 51  51      1059 non-null   float64\n",
      " 52  52      1059 non-null   float64\n",
      " 53  53      1059 non-null   float64\n",
      " 54  54      1059 non-null   float64\n",
      " 55  55      1059 non-null   float64\n",
      " 56  56      1059 non-null   float64\n",
      " 57  57      1059 non-null   float64\n",
      " 58  58      1059 non-null   float64\n",
      " 59  59      1059 non-null   float64\n",
      " 60  60      1059 non-null   float64\n",
      " 61  61      1059 non-null   float64\n",
      " 62  62      1059 non-null   float64\n",
      " 63  63      1059 non-null   float64\n",
      " 64  64      1059 non-null   float64\n",
      " 65  65      1059 non-null   float64\n",
      " 66  66      1059 non-null   float64\n",
      " 67  67      1059 non-null   float64\n",
      " 68  68      1059 non-null   float64\n",
      " 69  69      1059 non-null   float64\n",
      "dtypes: float64(70)\n",
      "memory usage: 579.3 KB\n"
     ]
    }
   ],
   "source": [
    "print(\"the total number of rows and columns in the data set : \\n\",df.shape)\n",
    "print(\"\\n\\nMore information about the dataset : \\n\")\n",
    "df.info()"
   ],
   "metadata": {
    "collapsed": false,
    "pycharm": {
     "name": "#%%\n"
    }
   }
  },
  {
   "cell_type": "code",
   "execution_count": 498,
   "outputs": [
    {
     "data": {
      "text/plain": "False"
     },
     "execution_count": 498,
     "metadata": {},
     "output_type": "execute_result"
    }
   ],
   "source": [
    "\"\"\"\n",
    "* Data has only float values.\n",
    "* No variable column has null/missing values.\n",
    "\"\"\"\n",
    "# checking if the data contains any NAN (null) values\n",
    "df.isnull().values.any()\n",
    "# we get false which means there are no null values"
   ],
   "metadata": {
    "collapsed": false,
    "pycharm": {
     "name": "#%%\n"
    }
   }
  },
  {
   "cell_type": "code",
   "execution_count": 499,
   "outputs": [],
   "source": [
    "data = df.iloc[:,:68] # each row is a song\n",
    "y = df.iloc[:,68:]    # latitude & longitude"
   ],
   "metadata": {
    "collapsed": false,
    "pycharm": {
     "name": "#%%\n"
    }
   }
  },
  {
   "cell_type": "code",
   "execution_count": 500,
   "outputs": [
    {
     "data": {
      "text/plain": "'\\n# We tried to correlate columns but failed\\n# Look for correlations between different variables and the target variable.\\n# make sure to specify some features that you might want to focus on or the plots might be too big\\nfrom pandas.plotting import scatter_matrix\\nfor i in range(68):\\n    df.drop(columns=[i]).corrwith(y)\\n    attributes = [j for j in range(68)]\\n    attributes.remove(i)\\n    scatter_matrix(df[attributes], figsize=(12, 8))\\n'"
     },
     "execution_count": 500,
     "metadata": {},
     "output_type": "execute_result"
    }
   ],
   "source": [
    "\"\"\"\n",
    "# We tried to correlate columns but failed\n",
    "# Look for correlations between different variables and the target variable.\n",
    "# make sure to specify some features that you might want to focus on or the plots might be too big\n",
    "from pandas.plotting import scatter_matrix\n",
    "for i in range(68):\n",
    "    df.drop(columns=[i]).corrwith(y)\n",
    "    attributes = [j for j in range(68)]\n",
    "    attributes.remove(i)\n",
    "    scatter_matrix(df[attributes], figsize=(12, 8))\n",
    "\"\"\""
   ],
   "metadata": {
    "collapsed": false,
    "pycharm": {
     "name": "#%%\n"
    }
   }
  },
  {
   "cell_type": "code",
   "execution_count": 501,
   "outputs": [
    {
     "data": {
      "text/plain": "<Figure size 432x288 with 1 Axes>",
      "image/png": "[encoded data removed]"
     },
     "metadata": {
      "needs_background": "light"
     },
     "output_type": "display_data"
    }
   ],
   "source": [
    "fig = plt.figure()\n",
    "plt.plot(y.iloc[:, 1], y.iloc[:, 0],\".r\")\n",
    "plt.title(\"Draw the initial relationship between longitude and latitude\")\n",
    "plt.xlabel(\"Longitude\")\n",
    "plt.ylabel(\"Latitude\")\n",
    "fig.savefig(\"first_fig.png\",facecolor=\"white\")"
   ],
   "metadata": {
    "collapsed": false,
    "pycharm": {
     "name": "#%%\n"
    }
   }
  },
  {
   "cell_type": "code",
   "execution_count": 502,
   "outputs": [
    {
     "data": {
      "text/plain": "array([[ 2.8610e+01,  7.7200e+01],\n       [ 3.6700e+01,  3.2100e+00],\n       [-1.5750e+01, -4.7950e+01],\n       [ 3.9910e+01,  1.1638e+02],\n       [ 3.9910e+01,  3.2830e+01],\n       [-6.1700e+00,  1.0682e+02],\n       [-1.2600e+00,  3.6800e+01],\n       [ 1.2650e+01, -8.0000e+00],\n       [ 1.7980e+01, -7.6800e+01],\n       [ 3.5700e+01,  1.3971e+02],\n       [-3.5300e+01,  1.4912e+02],\n       [ 1.3750e+01,  1.0048e+02],\n       [ 4.1260e+01,  6.9210e+01],\n       [ 4.1330e+01,  1.9800e+01],\n       [ 1.4910e+01, -2.3510e+01],\n       [ 3.5680e+01,  5.1410e+01],\n       [ 5.4680e+01,  2.5310e+01],\n       [ 5.2500e+01, -1.2000e-01],\n       [ 4.1900e+01,  1.2480e+01],\n       [ 2.3760e+01,  1.2100e+02],\n       [ 3.4030e+01, -6.8500e+00],\n       [ 9.0300e+00,  3.8740e+01],\n       [ 3.0030e+01,  3.1210e+01],\n       [ 3.3660e+01,  7.3160e+01],\n       [ 1.9750e+01,  9.6100e+01],\n       [ 4.1710e+01,  4.4780e+01],\n       [ 1.7250e+01, -8.8760e+01],\n       [ 3.8000e+01,  2.3710e+01],\n       [ 4.4410e+01,  2.6100e+01],\n       [ 1.4660e+01, -1.7410e+01],\n       [ 4.2860e+01,  7.4600e+01],\n       [-6.1700e+00,  3.5740e+01],\n       [ 1.1550e+01,  1.0491e+02]])"
     },
     "execution_count": 502,
     "metadata": {},
     "output_type": "execute_result"
    }
   ],
   "source": [
    "from numpy import save\n",
    "\n",
    " # The dataset was built from a personal collection of 1059 tracks covering 33 countries/area\n",
    "NumClusters = 33\n",
    "kmeans = KMeans(n_clusters=NumClusters , max_iter=600 )\n",
    "kmeans = kmeans.fit(y)\n",
    "labels = kmeans.predict(y)\n",
    "centroids = kmeans.cluster_centers_\n",
    "centroids"
   ],
   "metadata": {
    "collapsed": false,
    "pycharm": {
     "name": "#%%\n"
    }
   }
  },
  {
   "cell_type": "code",
   "execution_count": 503,
   "outputs": [
    {
     "data": {
      "text/plain": "<Figure size 432x288 with 1 Axes>",
      "image/png": "[encoded data removed]"
     },
     "metadata": {
      "needs_background": "light"
     },
     "output_type": "display_data"
    }
   ],
   "source": [
    "fig2 = plt.figure()\n",
    "cmap = cm.get_cmap(\"Spectral\")\n",
    "colors = [cmap(float(l) /NumClusters) for l in labels]\n",
    "plt.scatter(y.iloc[:, 1], y.iloc[:, 0], c = colors, s=25)\n",
    "plt.title(\"Clustered regions by coordinates\")\n",
    "plt.xlabel(\"Longitude\")\n",
    "plt.ylabel(\"Latitude\")\n",
    "fig2.savefig(\"Clustered_regions_fig.png\",facecolor=\"white\")"
   ],
   "metadata": {
    "collapsed": false,
    "pycharm": {
     "name": "#%%\n"
    }
   }
  },
  {
   "cell_type": "code",
   "execution_count": 504,
   "outputs": [
    {
     "name": "stdout",
     "output_type": "stream",
     "text": [
      "Training set shape: (592, 68)\n",
      "Testing set shape: (318, 68)\n",
      "validation set shape: (149, 68)\n"
     ]
    }
   ],
   "source": [
    "y = labels\n",
    "X_train, X_test, y_train, y_test = train_test_split(data, y,test_size = 0.30)\n",
    "X_train, X_val, y_train, y_val = train_test_split(X_train, y_train, test_size=0.20 )\n",
    "\n",
    "print(f\"Training set shape: {X_train.shape}\")\n",
    "print(f\"Testing set shape: {X_test.shape}\")\n",
    "print(f\"validation set shape: {X_val.shape}\")"
   ],
   "metadata": {
    "collapsed": false,
    "pycharm": {
     "name": "#%%\n"
    }
   }
  },
  {
   "cell_type": "code",
   "execution_count": 505,
   "outputs": [],
   "source": [
    "scaler_data = pd.DataFrame(StandardScaler().fit_transform(data),\n",
    "columns=df.columns[0:68])\n",
    "\n",
    "scaled_Xtrain = StandardScaler().fit_transform(X_train)\n",
    "scaled_Xtest =  StandardScaler().fit_transform(X_test)"
   ],
   "metadata": {
    "collapsed": false,
    "pycharm": {
     "name": "#%%\n"
    }
   }
  },
  {
   "cell_type": "code",
   "execution_count": 506,
   "outputs": [
    {
     "data": {
      "text/plain": "<Figure size 432x288 with 1 Axes>",
      "image/png": "[encoded data removed]"
     },
     "metadata": {
      "needs_background": "light"
     },
     "output_type": "display_data"
    }
   ],
   "source": [
    "pca = PCA(n_components=68) #\n",
    "principalComponents = pca.fit_transform(scaler_data)\n",
    "a= [1- i for i in pca.explained_variance_ratio_]\n",
    "#????\n",
    "\n",
    "X_scaler = StandardScaler().fit(data)\n",
    "PCA_var = PCA(n_components = X_scaler.transform(data).shape[1])\n",
    "PCA_var.fit(X_scaler.transform(data))\n",
    "PCA_var_exp = [1 - x/sum(PCA_var.explained_variance_) for x in PCA_var.explained_variance_]\n",
    "\n",
    "fig3 = plt.figure()\n",
    "plt.title(\"PCA variance explained across the number of PCs\")\n",
    "plt.xlabel(\"Number of PCs\")\n",
    "plt.ylabel(\"Ratio of variance explained\")\n",
    "plt.plot(range(0, len(a), 1), a, c = 'r')\n",
    "fig3.savefig(\"PCA.png\",facecolor=\"white\")\n",
    "plt.show()\n"
   ],
   "metadata": {
    "collapsed": false,
    "pycharm": {
     "name": "#%%\n"
    }
   }
  },
  {
   "cell_type": "markdown",
   "source": [],
   "metadata": {
    "collapsed": false,
    "pycharm": {
     "name": "#%% md\n"
    }
   }
  },
  {
   "cell_type": "code",
   "execution_count": 507,
   "outputs": [
    {
     "name": "stdout",
     "output_type": "stream",
     "text": [
      "Random Forest accuracy:0.4559748427672956\n"
     ]
    }
   ],
   "source": [
    "# RandomForest Classifier\n",
    "rf = RandomForestClassifier(n_estimators=1000).fit(X_train, y_train)\n",
    "rf_pred = rf.predict(X_test)\n",
    "print(f\"Random Forest accuracy:{metrics.accuracy_score(y_test,rf_pred)}\")\n",
    "#print(confusion_matrix(y_test, rf_pred))"
   ],
   "metadata": {
    "collapsed": false,
    "pycharm": {
     "name": "#%%\n"
    }
   }
  },
  {
   "cell_type": "code",
   "execution_count": 508,
   "outputs": [
    {
     "data": {
      "text/plain": "array([False, False,  True,  True,  True,  True, False,  True,  True,\n       False, False, False, False, False, False, False, False, False,\n       False,  True,  True,  True,  True, False,  True, False, False,\n       False, False, False, False, False, False, False,  True,  True,\n        True,  True,  True, False, False, False,  True, False, False,\n       False, False, False, False, False, False,  True,  True,  True,\n        True,  True, False, False, False,  True, False, False, False,\n       False, False, False, False, False])"
     },
     "execution_count": 508,
     "metadata": {},
     "output_type": "execute_result"
    }
   ],
   "source": [
    "sel = SelectFromModel(RandomForestClassifier(n_estimators = 1000))\n",
    "sel.fit(X_train, y_train)\n",
    "# To see which features are important we can use get_support method on the fitted model.\n",
    "Important_features = sel.get_support()\n",
    "Important_features"
   ],
   "metadata": {
    "collapsed": false,
    "pycharm": {
     "name": "#%%\n"
    }
   }
  },
  {
   "cell_type": "code",
   "execution_count": 509,
   "outputs": [
    {
     "name": "stdout",
     "output_type": "stream",
     "text": [
      "23\n",
      "Int64Index([ 2,  3,  4,  5,  7,  8, 19, 20, 21, 22, 24, 34, 35, 36, 37, 38, 42,\n",
      "            51, 52, 53, 54, 55, 59],\n",
      "           dtype='int64')\n"
     ]
    },
    {
     "data": {
      "text/plain": "            2         3         4         5         7         8         19  \\\n0     2.911583  0.984049 -1.499546 -2.094097 -1.205671  1.849122  0.820869   \n1    -0.603646  0.497745  0.874036  0.290280 -0.887385  0.432062 -0.357172   \n2    -0.788035  1.214351 -0.907214  0.880213 -0.694895 -0.901869 -0.747421   \n3     2.058215  0.716328 -0.011393  0.805396  0.114752  0.692847  2.255016   \n4    -0.279214  0.083456  1.049331 -0.869295 -0.401676 -0.872639 -0.718237   \n...        ...       ...       ...       ...       ...       ...       ...   \n1054 -0.039326 -0.111546  0.304586 -0.943453 -0.335898  0.826753  0.163344   \n1055  0.192745 -1.816855 -1.311906 -2.128963  0.094232 -1.429742 -0.831572   \n1056 -0.840420 -0.832105  0.277346  1.152162  0.229092  0.019036 -0.895588   \n1057  3.515274 -0.508185 -1.102654  0.192081  0.264674 -0.411533  0.706095   \n1058 -0.568885 -0.614652  0.332477 -0.954948 -1.591471 -3.678713 -0.775261   \n\n            20        21        22  ...        36        37        38  \\\n0     0.896190  0.131699  0.859286  ...  0.317270 -0.130580  2.048282   \n1    -0.578459  0.293603 -0.369997  ... -0.402494  0.058298 -0.221967   \n2     0.069946  0.305318  0.551537  ... -0.291778 -0.274901 -0.351297   \n3     0.332082 -0.051894  0.376492  ...  2.535289  0.537780  0.190260   \n4    -0.733049 -1.136788 -1.301985  ... -0.324638 -0.089385 -0.186612   \n...        ...       ...       ...  ...       ...       ...       ...   \n1054 -0.331143  0.435447 -0.084010  ...  0.112375 -1.306445 -0.203477   \n1055 -1.064253 -0.457632 -0.843810  ... -0.410138 -0.732524  1.261700   \n1056 -0.732369 -0.652789 -0.915942  ... -0.340651 -0.942980 -0.993363   \n1057  0.208220  0.889540 -0.004371  ...  4.228199  0.055216  0.449377   \n1058 -0.726250 -0.652795 -0.479773  ... -1.154825 -0.265373 -0.388169   \n\n            42        51        52        53        54        55        59  \n0     0.471089  1.319729  1.094839 -0.937659 -0.895371 -0.734962 -0.043610  \n1    -0.634147  1.627259  1.989545 -0.357803 -0.176835  0.406589 -0.947933  \n2     0.801809 -0.654047  0.264883 -0.421474 -0.405171  0.170239 -0.556109  \n3    -0.428863  2.301748  2.547275  1.485531 -0.179182  0.112038  0.166616  \n4    -0.479234  0.984157  0.279686 -0.784654 -0.078594 -0.250279 -0.500785  \n...        ...       ...       ...       ...       ...       ...       ...  \n1054 -0.099133 -0.081286 -0.015762  0.244884  0.119565  1.489708  0.425577  \n1055  0.391028 -0.636212 -1.622788 -0.541290  0.260389  2.550315  0.723125  \n1056 -0.650516  0.087498  0.059951 -0.616315  0.284195  0.718086 -0.287753  \n1057  2.455891 -0.578250 -0.501226  0.426008 -0.130229 -1.021024  1.565493  \n1058  4.112404 -0.710954 -0.557389 -0.818123  0.136330 -0.773602  4.159140  \n\n[1059 rows x 23 columns]",
      "text/html": "<div>\n<style scoped>\n    .dataframe tbody tr th:only-of-type {\n        vertical-align: middle;\n    }\n\n    .dataframe tbody tr th {\n        vertical-align: top;\n    }\n\n    .dataframe thead th {\n        text-align: right;\n    }\n</style>\n<table border=\"1\" class=\"dataframe\">\n  <thead>\n    <tr style=\"text-align: right;\">\n      <th></th>\n      <th>2</th>\n      <th>3</th>\n      <th>4</th>\n      <th>5</th>\n      <th>7</th>\n      <th>8</th>\n      <th>19</th>\n      <th>20</th>\n      <th>21</th>\n      <th>22</th>\n      <th>...</th>\n      <th>36</th>\n      <th>37</th>\n      <th>38</th>\n      <th>42</th>\n      <th>51</th>\n      <th>52</th>\n      <th>53</th>\n      <th>54</th>\n      <th>55</th>\n      <th>59</th>\n    </tr>\n  </thead>\n  <tbody>\n    <tr>\n      <th>0</th>\n      <td>2.911583</td>\n      <td>0.984049</td>\n      <td>-1.499546</td>\n      <td>-2.094097</td>\n      <td>-1.205671</td>\n      <td>1.849122</td>\n      <td>0.820869</td>\n      <td>0.896190</td>\n      <td>0.131699</td>\n      <td>0.859286</td>\n      <td>...</td>\n      <td>0.317270</td>\n      <td>-0.130580</td>\n      <td>2.048282</td>\n      <td>0.471089</td>\n      <td>1.319729</td>\n      <td>1.094839</td>\n      <td>-0.937659</td>\n      <td>-0.895371</td>\n      <td>-0.734962</td>\n      <td>-0.043610</td>\n    </tr>\n    <tr>\n      <th>1</th>\n      <td>-0.603646</td>\n      <td>0.497745</td>\n      <td>0.874036</td>\n      <td>0.290280</td>\n      <td>-0.887385</td>\n      <td>0.432062</td>\n      <td>-0.357172</td>\n      <td>-0.578459</td>\n      <td>0.293603</td>\n      <td>-0.369997</td>\n      <td>...</td>\n      <td>-0.402494</td>\n      <td>0.058298</td>\n      <td>-0.221967</td>\n      <td>-0.634147</td>\n      <td>1.627259</td>\n      <td>1.989545</td>\n      <td>-0.357803</td>\n      <td>-0.176835</td>\n      <td>0.406589</td>\n      <td>-0.947933</td>\n    </tr>\n    <tr>\n      <th>2</th>\n      <td>-0.788035</td>\n      <td>1.214351</td>\n      <td>-0.907214</td>\n      <td>0.880213</td>\n      <td>-0.694895</td>\n      <td>-0.901869</td>\n      <td>-0.747421</td>\n      <td>0.069946</td>\n      <td>0.305318</td>\n      <td>0.551537</td>\n      <td>...</td>\n      <td>-0.291778</td>\n      <td>-0.274901</td>\n      <td>-0.351297</td>\n      <td>0.801809</td>\n      <td>-0.654047</td>\n      <td>0.264883</td>\n      <td>-0.421474</td>\n      <td>-0.405171</td>\n      <td>0.170239</td>\n      <td>-0.556109</td>\n    </tr>\n    <tr>\n      <th>3</th>\n      <td>2.058215</td>\n      <td>0.716328</td>\n      <td>-0.011393</td>\n      <td>0.805396</td>\n      <td>0.114752</td>\n      <td>0.692847</td>\n      <td>2.255016</td>\n      <td>0.332082</td>\n      <td>-0.051894</td>\n      <td>0.376492</td>\n      <td>...</td>\n      <td>2.535289</td>\n      <td>0.537780</td>\n      <td>0.190260</td>\n      <td>-0.428863</td>\n      <td>2.301748</td>\n      <td>2.547275</td>\n      <td>1.485531</td>\n      <td>-0.179182</td>\n      <td>0.112038</td>\n      <td>0.166616</td>\n    </tr>\n    <tr>\n      <th>4</th>\n      <td>-0.279214</td>\n      <td>0.083456</td>\n      <td>1.049331</td>\n      <td>-0.869295</td>\n      <td>-0.401676</td>\n      <td>-0.872639</td>\n      <td>-0.718237</td>\n      <td>-0.733049</td>\n      <td>-1.136788</td>\n      <td>-1.301985</td>\n      <td>...</td>\n      <td>-0.324638</td>\n      <td>-0.089385</td>\n      <td>-0.186612</td>\n      <td>-0.479234</td>\n      <td>0.984157</td>\n      <td>0.279686</td>\n      <td>-0.784654</td>\n      <td>-0.078594</td>\n      <td>-0.250279</td>\n      <td>-0.500785</td>\n    </tr>\n    <tr>\n      <th>...</th>\n      <td>...</td>\n      <td>...</td>\n      <td>...</td>\n      <td>...</td>\n      <td>...</td>\n      <td>...</td>\n      <td>...</td>\n      <td>...</td>\n      <td>...</td>\n      <td>...</td>\n      <td>...</td>\n      <td>...</td>\n      <td>...</td>\n      <td>...</td>\n      <td>...</td>\n      <td>...</td>\n      <td>...</td>\n      <td>...</td>\n      <td>...</td>\n      <td>...</td>\n      <td>...</td>\n    </tr>\n    <tr>\n      <th>1054</th>\n      <td>-0.039326</td>\n      <td>-0.111546</td>\n      <td>0.304586</td>\n      <td>-0.943453</td>\n      <td>-0.335898</td>\n      <td>0.826753</td>\n      <td>0.163344</td>\n      <td>-0.331143</td>\n      <td>0.435447</td>\n      <td>-0.084010</td>\n      <td>...</td>\n      <td>0.112375</td>\n      <td>-1.306445</td>\n      <td>-0.203477</td>\n      <td>-0.099133</td>\n      <td>-0.081286</td>\n      <td>-0.015762</td>\n      <td>0.244884</td>\n      <td>0.119565</td>\n      <td>1.489708</td>\n      <td>0.425577</td>\n    </tr>\n    <tr>\n      <th>1055</th>\n      <td>0.192745</td>\n      <td>-1.816855</td>\n      <td>-1.311906</td>\n      <td>-2.128963</td>\n      <td>0.094232</td>\n      <td>-1.429742</td>\n      <td>-0.831572</td>\n      <td>-1.064253</td>\n      <td>-0.457632</td>\n      <td>-0.843810</td>\n      <td>...</td>\n      <td>-0.410138</td>\n      <td>-0.732524</td>\n      <td>1.261700</td>\n      <td>0.391028</td>\n      <td>-0.636212</td>\n      <td>-1.622788</td>\n      <td>-0.541290</td>\n      <td>0.260389</td>\n      <td>2.550315</td>\n      <td>0.723125</td>\n    </tr>\n    <tr>\n      <th>1056</th>\n      <td>-0.840420</td>\n      <td>-0.832105</td>\n      <td>0.277346</td>\n      <td>1.152162</td>\n      <td>0.229092</td>\n      <td>0.019036</td>\n      <td>-0.895588</td>\n      <td>-0.732369</td>\n      <td>-0.652789</td>\n      <td>-0.915942</td>\n      <td>...</td>\n      <td>-0.340651</td>\n      <td>-0.942980</td>\n      <td>-0.993363</td>\n      <td>-0.650516</td>\n      <td>0.087498</td>\n      <td>0.059951</td>\n      <td>-0.616315</td>\n      <td>0.284195</td>\n      <td>0.718086</td>\n      <td>-0.287753</td>\n    </tr>\n    <tr>\n      <th>1057</th>\n      <td>3.515274</td>\n      <td>-0.508185</td>\n      <td>-1.102654</td>\n      <td>0.192081</td>\n      <td>0.264674</td>\n      <td>-0.411533</td>\n      <td>0.706095</td>\n      <td>0.208220</td>\n      <td>0.889540</td>\n      <td>-0.004371</td>\n      <td>...</td>\n      <td>4.228199</td>\n      <td>0.055216</td>\n      <td>0.449377</td>\n      <td>2.455891</td>\n      <td>-0.578250</td>\n      <td>-0.501226</td>\n      <td>0.426008</td>\n      <td>-0.130229</td>\n      <td>-1.021024</td>\n      <td>1.565493</td>\n    </tr>\n    <tr>\n      <th>1058</th>\n      <td>-0.568885</td>\n      <td>-0.614652</td>\n      <td>0.332477</td>\n      <td>-0.954948</td>\n      <td>-1.591471</td>\n      <td>-3.678713</td>\n      <td>-0.775261</td>\n      <td>-0.726250</td>\n      <td>-0.652795</td>\n      <td>-0.479773</td>\n      <td>...</td>\n      <td>-1.154825</td>\n      <td>-0.265373</td>\n      <td>-0.388169</td>\n      <td>4.112404</td>\n      <td>-0.710954</td>\n      <td>-0.557389</td>\n      <td>-0.818123</td>\n      <td>0.136330</td>\n      <td>-0.773602</td>\n      <td>4.159140</td>\n    </tr>\n  </tbody>\n</table>\n<p>1059 rows × 23 columns</p>\n</div>"
     },
     "execution_count": 509,
     "metadata": {},
     "output_type": "execute_result"
    }
   ],
   "source": [
    "selected_feat= X_train.columns[(sel.get_support())]\n",
    "print(len(selected_feat))\n",
    "print(selected_feat)\n",
    "\n",
    "New_df = df.iloc[:,selected_feat] # data frame with only the selected features\n",
    "New_df.to_csv(\"relevant_features.csv\")\n",
    "New_df"
   ],
   "metadata": {
    "collapsed": false,
    "pycharm": {
     "name": "#%%\n"
    }
   }
  },
  {
   "cell_type": "code",
   "execution_count": 510,
   "outputs": [
    {
     "name": "stdout",
     "output_type": "stream",
     "text": [
      "Random Forest accuracy:0.4899328859060403\n"
     ]
    }
   ],
   "source": [
    "# validate the model\n",
    "Nrf = RandomForestClassifier(n_estimators=1000).fit(X_train, y_train)\n",
    "Nrf_pred = Nrf.predict(X_val)\n",
    "print(f\"Random Forest accuracy:{metrics.accuracy_score(y_val,Nrf_pred)}\")"
   ],
   "metadata": {
    "collapsed": false,
    "pycharm": {
     "name": "#%%\n"
    }
   }
  }
 ],
 "metadata": {
  "kernelspec": {
   "display_name": "Python 3",
   "language": "python",
   "name": "python3"
  },
  "language_info": {
   "codemirror_mode": {
    "name": "ipython",
    "version": 2
   },
   "file_extension": ".py",
   "mimetype": "text/x-python",
   "name": "python",
   "nbconvert_exporter": "python",
   "pygments_lexer": "ipython2",
   "version": "2.7.6"
  }
 },
 "nbformat": 4,
 "nbformat_minor": 0
}